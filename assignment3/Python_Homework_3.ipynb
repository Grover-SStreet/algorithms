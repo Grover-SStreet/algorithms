{
 "cells": [
  {
   "cell_type": "markdown",
   "metadata": {
    "id": "rfMpgWx5MZvp"
   },
   "source": [
    "# <center> **Binary Search Tree**\n",
    "<center> “To be without trees would, in the most literal way, to be without our roots.” - Richard Mabey </center>\n",
    "\n",
    "### **Important Notes:**\n",
    "*   **Deadline: March 16 11:59PM (midnight)** \n",
    "*   Any questions should be sent to [minhducl@uark.edu](https://) (author) and [sangt@uark.edu](https://)\n",
    "*   Please **start early** and read the instructions as well as examples. \n",
    "*   **We recommend running this file in Google Colab**\n",
    "*   Run the following code cells for test cases and APIs from previous homeworks\n"
   ]
  },
  {
   "cell_type": "code",
   "execution_count": 2,
   "metadata": {
    "id": "ozZXOKypTl1Y"
   },
   "outputs": [],
   "source": [
    "# the data will be downloaded to content directory\n",
    "! gdown 1HqJDlRWr5Ffo2fc765JDFoh59xj3fhOx --quiet\n",
    "\n",
    "import json \n",
    "with open('content/data.json') as json_file:\n",
    "    data = json.load(json_file)"
   ]
  },
  {
   "cell_type": "markdown",
   "metadata": {
    "id": "gqjlDtVtU7dR"
   },
   "source": [
    "#**I. Introduction**\n",
    "In homework 1, we were working with data structures that are made up of *nodes*. Each node contains links that are either *None* or references to other nodes. In this homework, we cover the binary tree data structure, which has the restriction that every node is pointed to by just one other node (called *parent*), and each node has exactly 2 links called *left* and *right*, that point to nodes that are left child and right child respectively. Let's quickly define the API for this type of node. \n",
    "\n",
    "\n"
   ]
  },
  {
   "cell_type": "code",
   "execution_count": 18,
   "metadata": {
    "id": "GXSRtrJss9s-"
   },
   "outputs": [],
   "source": [
    "class Node:\n",
    "  def __init__(self, key: int=None, value: str=None, N: int=0):\n",
    "    self.key   = key        # key\n",
    "    self.value = value      # associated values\n",
    "    self.left  = None       # link to left subtree\n",
    "    self.right = None       # link to right subtree\n",
    "    self.N = N              # number of nodes in subtree rooted here"
   ]
  },
  {
   "cell_type": "markdown",
   "metadata": {
    "id": "NyQf7dGRa7oT"
   },
   "source": [
    "Although a link points to a node, if that node is a root of a subtree, we can see link as pointing to a binary tree. The study of binary tree covers many applications but we will mainly work with *binary search tree*, a special case of binary tree whose ordering support efficient search. \n",
    "\n",
    "> **Definition:** a *binary search tree* (BST) is a binary tree where each node has a key that satisfies the restriction that the key in any node is larger than the keys in all nodes in that node's left subtree and smaller than keys in all nodes in that node's right subtree.\n",
    "\n",
    "\n"
   ]
  },
  {
   "cell_type": "markdown",
   "metadata": {
    "id": "0IOuaPslfpI0"
   },
   "source": [
    "<center><img src=\"https://drive.google.com/uc?export=view&id=1BDRbcJjbrimvjbRMjChq0wPoIh5y6Hiz\" width=\"35%\" height=\"30%\">\n",
    "<figcaption>Figure 1: Example of a binary search tree. This tree has 7 nodes. If we read the key of these nodes from left to right, it would be [3,5,9,12,15,20,22], which follows ascending numerical order. The root of this tree has key 20 and it placed at the top of the tree. </figcaption> </center>\n",
    "\n",
    "\n"
   ]
  },
  {
   "cell_type": "markdown",
   "metadata": {
    "id": "-FibkbWAgttw"
   },
   "source": [
    "It is often the case that the binary tree is huge with thousands to millions nodes. Without ordering, searching in that tree is considerably inefficient. With BST, a maximum of 2 comparisions is carried out at each node, and we will able to tell which direction to go (left or right?) at that node, making searching much more efficient. We will cover the API of BST and discover one exciting way to maintain the height balance of a BST."
   ]
  },
  {
   "cell_type": "markdown",
   "metadata": {
    "id": "dcWqt13OacNx"
   },
   "source": [
    "# **Binary Search Tree (BST)**"
   ]
  },
  {
   "cell_type": "markdown",
   "metadata": {
    "id": "0SIBisYpla7S"
   },
   "source": [
    "Binary Search Tree is a very well-known data structure and there is abundance of information that could be found online. We provide the API for it below with some methods that are provided to you as an example. You will see we implement them in recursive fashion as this is the easy way to traverse inside the tree. You will be asked to implement a number of operations on this tree, and the test cases are provided for you to test run it before submission. More instructions will be provided for each operation.\n",
    "\n",
    "**BST API**\n",
    "```\n",
    "class BST:\n",
    "    __init__(keys: List, vals: List)->None    # read a list to construct the\n",
    "    size()->int                               # number of nodes in the tree\n",
    "    insert(key: int, vals: str)->None         # insert a pair of key and value\n",
    "    printTree()->None                         # print the BST\n",
    "    height(key: int)->int:                    # height of the tree\n",
    "    getValue(key: int)->str:                  # get the value associated with the given key\n",
    "    min()->int                                # return the minimum key\n",
    "    max()->int                                # return the maximum key\n",
    "    floor(key: int)->int                      # the largest key smaller to the given key\n",
    "    ceiling(key: int)->int                    # the smallest key smaller to the given key\n",
    "    rank(key: int)->int                       # how many keys to the left of the given key\n",
    "    delete(key: int)->None                    # delete the node that has the given key                          \n",
    "    AVL_balance()->None                       # balance the tree according to AVL sense\n",
    "```\n",
    "\n",
    "One could quickly spot that we define key of integer type and value string type. This is to simplify the implementation, and please bear in mind that they do not have to be integer or string. Python implementation of the API is given below. "
   ]
  },
  {
   "cell_type": "code",
   "execution_count": 19,
   "metadata": {
    "id": "9vlJtZuYaet3"
   },
   "outputs": [],
   "source": [
    "from typing import List\n",
    "\n",
    "\n",
    "# class definition of binary search tree\n",
    "# noinspection DuplicatedCode\n",
    "class BST:\n",
    "    def __init__(self, keys: List, vals: List):\n",
    "        self.__root = None\n",
    "        for (key, val) in zip(keys, vals):\n",
    "            self.insert(key, val)\n",
    "\n",
    "    # find the number of nodes in the tree\n",
    "    def size(self) -> int:\n",
    "        return self.__size(self.__root)\n",
    "\n",
    "    # find the number of nodes in the subtree whose root is node\n",
    "    def __size(self, node: Node) -> int:\n",
    "        if node is None:\n",
    "            return 0\n",
    "        else:\n",
    "            return node.N\n",
    "\n",
    "    # insert a new pair of key and associated value to the tree\n",
    "    def insert(self, key: int, val: str) -> None:\n",
    "        self.__root = self.__insert(self.__root, key, val)\n",
    "\n",
    "    def __insert(self, node: Node, key: int, val: str) -> Node:\n",
    "        # if the node does not exist, add new node\n",
    "        if node is None: return Node(key, val, 1)\n",
    "        if key < node.key:\n",
    "            node.left = self.__insert(node.left, key, val)\n",
    "        elif key > node.key:\n",
    "            node.right = self.__insert(node.right, key, val)\n",
    "        else:\n",
    "            node.val = val\n",
    "        node.N = self.__size(node.left) + self.__size(node.right) + 1\n",
    "        return node\n",
    "\n",
    "    # print the tree horizontally\n",
    "    def printTree(self) -> None:\n",
    "        self.__printTree(self.__root)\n",
    "\n",
    "    # recursively print the nodes from right to left\n",
    "    def __printTree(self, node: Node, level: int = 0) -> None:\n",
    "        if node is not None:\n",
    "            self.__printTree(node.right, level + 1)\n",
    "            print(' ' * 6 * level + '-> ' + str(node.key))\n",
    "            self.__printTree(node.left, level + 1)\n",
    "\n",
    "    # find the height of a node with given key\n",
    "    def height(self, key: int) -> int:\n",
    "        def internal_height(node):\n",
    "            if node is None:\n",
    "                return 0\n",
    "            leftAns = internal_height(node.left)\n",
    "            rightAns = internal_height(node.right)\n",
    "            return max(leftAns, rightAns) + 1\n",
    "\n",
    "        def internal_traverse(node):\n",
    "            if node is None:\n",
    "                return None\n",
    "            if node.key == key:\n",
    "                return node\n",
    "            else:\n",
    "                if key < node.key:\n",
    "                    temp_one = internal_traverse(node.left)\n",
    "                elif key > node.key:\n",
    "                    temp_one = internal_traverse(node.right)\n",
    "                else:\n",
    "                    temp_one = None\n",
    "                return temp_one\n",
    "\n",
    "        node_found = internal_traverse(self.__root)\n",
    "        if node_found is not None:\n",
    "            left_height = internal_height(node_found.left)\n",
    "            right_height = internal_height(node_found.right)\n",
    "            return max(left_height, right_height)\n",
    "        else:\n",
    "            return -1\n",
    "\n",
    "    # get the value at a node with a given key\n",
    "    def getValue(self, key: int) -> str:\n",
    "        return self.__getValue(self.__root, key)\n",
    "\n",
    "    def __getValue(self, node: Node, key: int) -> str:\n",
    "        if node is None: return None\n",
    "        if key < node.key:\n",
    "            return self.__getValue(node.left, key)\n",
    "        elif key > node.key:\n",
    "            return self.__getValue(node.right, key)\n",
    "        else:\n",
    "            return node.value\n",
    "\n",
    "    def min(self) -> int:\n",
    "        left_side = self.__root\n",
    "        while left_side.left is not None:\n",
    "            left_side = left_side.left\n",
    "        return left_side.key\n",
    "\n",
    "    # return the maximum key of the tree\n",
    "    def max(self) -> int:\n",
    "        right_side = self.__root\n",
    "        while right_side.right is not None:\n",
    "            right_side = right_side.right\n",
    "        return right_side.key\n",
    "\n",
    "    def floor(self, key: int):\n",
    "        if self.__root is None:\n",
    "            return -1\n",
    "\n",
    "        if self.__root.key == key:\n",
    "            return self.__root.key\n",
    "        elif self.__root.key > key:\n",
    "            side = self.__root.left\n",
    "        else:\n",
    "            side = self.__root.right\n",
    "\n",
    "        while True:\n",
    "            if side.left is not None and side.right is not None:\n",
    "                if side.key < key:\n",
    "                    side = side.right\n",
    "                elif side.key > key:\n",
    "                    side = side.left\n",
    "            elif side.right is not None:\n",
    "                if side.key < key:\n",
    "                    if side.right.key > key:\n",
    "                        return side.key\n",
    "                    else:\n",
    "                        side = side.right\n",
    "            elif side.left is not None:\n",
    "                if side.key > key:\n",
    "                    if side.left.key < key:\n",
    "                        return side.key\n",
    "                else:\n",
    "                    side = side.left\n",
    "            else:\n",
    "                if key < side.key:\n",
    "                    if self.__root.key < key:\n",
    "                        return self.__root.key\n",
    "                    else:\n",
    "                        return None\n",
    "                elif key == side.key:\n",
    "                    return key\n",
    "                else:\n",
    "                    return side.key\n",
    "\n",
    "    def ceiling(self, key: int):\n",
    "        if self.__root is None:\n",
    "            return -1\n",
    "\n",
    "        if self.__root.key == key:\n",
    "            return self.__root.key\n",
    "        elif self.__root.key > key:\n",
    "            side = self.__root.left\n",
    "        else:\n",
    "            side = self.__root.right\n",
    "\n",
    "        while True:\n",
    "            if side.left is not None and side.right is not None:\n",
    "                if side.key < key:\n",
    "                    side = side.right\n",
    "                elif side.key > key:\n",
    "                    if side.left.key < key < side.key:\n",
    "                        return side.key\n",
    "                    else:\n",
    "                        side = side.left\n",
    "            elif side.right is not None:\n",
    "                if side.key > key:\n",
    "                    if side.right.key > key:\n",
    "                        return side.key\n",
    "                    else:\n",
    "                        side = side.right\n",
    "                else:\n",
    "                    side = side.right\n",
    "            elif side.left is not None:\n",
    "                if side.key > key:\n",
    "                    if side.left.key < key:\n",
    "                        return side.key\n",
    "                else:\n",
    "                    side = side.left\n",
    "\n",
    "            else:\n",
    "                if key > side.key:\n",
    "                    if self.__root.key < key:\n",
    "                        return None\n",
    "                    else:\n",
    "                        return self.__root.key\n",
    "                elif key == side.key:\n",
    "                    return key\n",
    "                else:\n",
    "                    return side.key\n",
    "\n",
    "    def rank(self, key: int) -> int:\n",
    "        def find_size(node):\n",
    "            size = 1\n",
    "            if node.left is not None and node.key < key:\n",
    "                size += find_size(node.left)\n",
    "            if node.right is not None and node.key < key:\n",
    "                size += find_size(node.right)\n",
    "\n",
    "            if node.key > key or node.key == key:\n",
    "                size -= 1\n",
    "            if node.key > key and node.left is not None:\n",
    "                size += find_size(node.left)\n",
    "            return size\n",
    "\n",
    "        def find_internal_rank(node):\n",
    "            count = 0\n",
    "            if key == self.__root.key:\n",
    "                if node is None:\n",
    "                    return 0\n",
    "                else:\n",
    "                    return find_size(self.__root.left)\n",
    "            if key > self.__root.key:\n",
    "                count += 1\n",
    "                if self.__root.left is not None:\n",
    "                    count += find_size(self.__root.left)\n",
    "                if self.__root.right is not None:\n",
    "                    count += find_size(self.__root.right)\n",
    "                return count\n",
    "            if key < self.__root.key:\n",
    "                if self.__root.left is not None:\n",
    "                    count += find_size(self.__root.left)\n",
    "                return count\n",
    "\n",
    "        return find_internal_rank(self.__root)\n",
    "\n",
    "    def delete(self, key: int) -> None:\n",
    "        def min_node(node):\n",
    "            left_side = node\n",
    "            while node.left is not None:\n",
    "                left_side = node.left\n",
    "            return left_side\n",
    "\n",
    "        def delete_node(node, temp_key):\n",
    "            if node is None:\n",
    "                return node\n",
    "            if node.key > temp_key:\n",
    "                node.left = delete_node(node.left, temp_key)\n",
    "            elif node.key < temp_key:\n",
    "                node.right = delete_node(node.right, temp_key)\n",
    "            else:\n",
    "                if node.left is None:\n",
    "                    temp = node.right\n",
    "                    return temp\n",
    "\n",
    "                elif node.right is None:\n",
    "                    temp = node.left\n",
    "                    return temp\n",
    "\n",
    "                temp_node = min_node(node.right)\n",
    "                node.key = temp_node.key\n",
    "                node.right = delete_node(node.right, temp_node.key)\n",
    "            return node\n",
    "\n",
    "        self.__root = delete_node(self.__root, key)\n",
    "\n",
    "    def avlBalance(self) -> None:\n",
    "        def left_rot(node):\n",
    "\n",
    "            temp_node = node.right\n",
    "            temp_left = temp_node.left\n",
    "\n",
    "            temp_node.left = node\n",
    "            node.right = temp_left\n",
    "\n",
    "            if node.left is not None:\n",
    "                height_one = self.height(node.left.key)\n",
    "            else:\n",
    "                height_one = 0\n",
    "            if node.right is not None:\n",
    "                height_two = self.height(node.right.key)\n",
    "            else:\n",
    "                height_two = 0\n",
    "\n",
    "            node.N = max(height_one, height_two)\n",
    "\n",
    "            if temp_node.left is not None:\n",
    "                height_one = self.height(temp_node.left.key)\n",
    "            else:\n",
    "                height_one = 0\n",
    "            if temp_node.right is not None:\n",
    "                height_two = self.height(temp_node.right.key)\n",
    "            else:\n",
    "                height_two = 0\n",
    "\n",
    "            temp_node.N = max(height_one, height_two)\n",
    "\n",
    "            return temp_node\n",
    "\n",
    "        def right_rot(node):\n",
    "\n",
    "            temp_node = node.left\n",
    "            right_temp_node = temp_node.right\n",
    "\n",
    "            temp_node.right = node\n",
    "            node.left = right_temp_node\n",
    "\n",
    "            if node.left is not None:\n",
    "                height_one = self.height(node.left.key)\n",
    "            else:\n",
    "                height_one = 0\n",
    "            if node.right is not None:\n",
    "                height_two = self.height(node.right.key)\n",
    "            else:\n",
    "                height_two = 0\n",
    "\n",
    "            node.N = max(height_one, height_two)\n",
    "\n",
    "            if temp_node.left is not None:\n",
    "                height_one = self.height(temp_node.left.key)\n",
    "            else:\n",
    "                height_one = 0\n",
    "            if temp_node.right is not None:\n",
    "                height_two = self.height(temp_node.right.key)\n",
    "            else:\n",
    "                height_two = 0\n",
    "\n",
    "            temp_node.N = max(height_one, height_two)\n",
    "\n",
    "            return temp_node\n",
    "\n",
    "        def get_balance(node):\n",
    "            if self.__root.key != node.key:\n",
    "                return 0\n",
    "            return self.height(node.left.key) - self.height(node.right.key)\n",
    "\n",
    "        def is_balanced(node):\n",
    "            balance_num = get_balance(node)\n",
    "            need_left = -1\n",
    "            need_right = 1\n",
    "\n",
    "            if balance_num < need_left and node.right.key > node.key:\n",
    "                node.right = right_rot(node.right)\n",
    "                return left_rot(node)\n",
    "\n",
    "            if balance_num < need_left and node.right.key < node.key:\n",
    "                return left_rot(node)\n",
    "\n",
    "            if balance_num > need_right and node.left.key < node.key:\n",
    "                node.left = left_rot(node.left)\n",
    "                return right_rot(node)\n",
    "\n",
    "            if balance_num > need_right and node.left.key > node.key:\n",
    "                return right_rot(node)\n",
    "\n",
    "            return node\n",
    "\n",
    "        self.__root = is_balanced(self.__root)\n"
   ]
  },
  {
   "cell_type": "markdown",
   "metadata": {
    "id": "cXoAq3iyoEsJ"
   },
   "source": [
    "We only provide the methods *size, insert, printTree, getValue*, which are the very basic operations but necessary enough to get us started with the tree. Let's build our first tree in the example."
   ]
  },
  {
   "cell_type": "code",
   "execution_count": 20,
   "metadata": {
    "colab": {
     "base_uri": "https://localhost:8080/"
    },
    "id": "KVPHFd3KahfN",
    "outputId": "fa616829-ecd6-4f04-fbc3-3882b0980254"
   },
   "outputs": [
    {
     "name": "stdout",
     "output_type": "stream",
     "text": [
      "Size of this tree: 7 \n",
      "\n",
      "Visualization of the tree\n",
      "      -> 22\n",
      "-> 20\n",
      "                  -> 15\n",
      "            -> 12\n",
      "      -> 9\n",
      "            -> 5\n",
      "                  -> 3\n"
     ]
    }
   ],
   "source": [
    "# build the first tree in the example\n",
    "bst = BST(**data['example'])\n",
    "\n",
    "# print the size of the tree\n",
    "print(f\"Size of this tree: {bst.size()} \\n\")\n",
    "\n",
    "# print out the tree\n",
    "print(\"Visualization of the tree\")\n",
    "bst.printTree()"
   ]
  },
  {
   "cell_type": "markdown",
   "metadata": {
    "id": "wyE0-ESRqbKi"
   },
   "source": [
    "Let's add a new key 21 to the tree and see how the tree changes."
   ]
  },
  {
   "cell_type": "code",
   "execution_count": 21,
   "metadata": {
    "colab": {
     "base_uri": "https://localhost:8080/"
    },
    "id": "SAkSESMU-8aZ",
    "outputId": "194aeca1-64f6-4414-b02d-2a22a062080e"
   },
   "outputs": [
    {
     "name": "stdout",
     "output_type": "stream",
     "text": [
      "Size of this tree: 8 \n",
      "\n",
      "Visualization of the tree\n",
      "      -> 22\n",
      "            -> 21\n",
      "-> 20\n",
      "                  -> 15\n",
      "            -> 12\n",
      "      -> 9\n",
      "            -> 5\n",
      "                  -> 3\n"
     ]
    }
   ],
   "source": [
    "# add key 21 with associated value \"Hello\"\n",
    "bst.insert(21, \"Hello\")\n",
    "\n",
    "# print the size of the tree\n",
    "print(f\"Size of this tree: {bst.size()} \\n\")\n",
    "\n",
    "# print out the tree\n",
    "print(\"Visualization of the tree\")\n",
    "bst.printTree()"
   ]
  },
  {
   "cell_type": "markdown",
   "metadata": {
    "id": "kt5GF0PYrM1k"
   },
   "source": [
    "What is the value associated with key 15?"
   ]
  },
  {
   "cell_type": "code",
   "execution_count": 22,
   "metadata": {
    "colab": {
     "base_uri": "https://localhost:8080/"
    },
    "id": "ObCT24AN-8X_",
    "outputId": "0a716795-726e-434c-8665-e6d8482aaf18"
   },
   "outputs": [
    {
     "name": "stdout",
     "output_type": "stream",
     "text": [
      "Key 15 has value Sang\n"
     ]
    }
   ],
   "source": [
    "# get the value of key 15\n",
    "print(f\"Key 15 has value {bst.getValue(15)}\")"
   ]
  },
  {
   "cell_type": "markdown",
   "metadata": {
    "id": "bVGuDgaaryCK"
   },
   "source": [
    "Now we will need you to help us implement the rest of the API. Let's first talk about finding minimum and maximum key in the tree."
   ]
  },
  {
   "cell_type": "markdown",
   "metadata": {
    "id": "Uu7qbEkKHbcj"
   },
   "source": [
    "## **Minimum vs Maximum (15 pts)**"
   ]
  },
  {
   "cell_type": "markdown",
   "metadata": {
    "id": "xaQko3W0wIBY"
   },
   "source": [
    "<center><img src=\"https://drive.google.com/uc?export=view&id=1BDRbcJjbrimvjbRMjChq0wPoIh5y6Hiz\" width=\"25%\" height=\"20%\">"
   ]
  },
  {
   "cell_type": "markdown",
   "metadata": {
    "id": "CmIYZF82vr4e"
   },
   "source": [
    "It can be seen from the example that the minimum key is located all the way to the left. The only attribute in our API is the root node (*self.__root*) and it is set to be private. This means if we want to find the mimimum, we have to traverse from the root to left node and keep traversing left untill the left link is None. Finding the maximum key is similar, moving to the right instead of to the left "
   ]
  },
  {
   "cell_type": "markdown",
   "metadata": {
    "id": "-5e-9tUUtz6V"
   },
   "source": [
    "**Test cases for Mimimum**"
   ]
  },
  {
   "cell_type": "code",
   "execution_count": 25,
   "metadata": {
    "id": "mgQp_1pQtzgf"
   },
   "outputs": [],
   "source": [
    "# test case 0\n",
    "tc_0 = BST(**data['testcase_0'])\n",
    "assert(tc_0.min()==1)\n",
    "\n",
    "# test case 1\n",
    "tc_1 = BST(**data['testcase_1'])\n",
    "assert(tc_1.min()==1)\n",
    "\n",
    "# test case 2\n",
    "tc_2 = BST(**data['testcase_2'])\n",
    "assert(tc_2.min()==18)\n",
    "\n",
    "# test case 3\n",
    "tc_3 = BST(**data['testcase_3'])\n",
    "assert(tc_3.min()==2)\n",
    "\n",
    "# test case 4\n",
    "tc_4 = BST(**data['testcase_4'])\n",
    "assert(tc_4.min()==10)\n",
    "\n",
    "# test case 5\n",
    "tc_5 = BST(**data['testcase_5'])\n",
    "assert(tc_5.min()==100)"
   ]
  },
  {
   "cell_type": "markdown",
   "metadata": {
    "id": "sIPNdIilt8Gm"
   },
   "source": [
    "**Test cases for Maximum**"
   ]
  },
  {
   "cell_type": "code",
   "execution_count": 26,
   "metadata": {
    "id": "MS0YRH6PGyRp"
   },
   "outputs": [],
   "source": [
    "# test case 0\n",
    "tc_0 = BST(**data['testcase_0'])\n",
    "assert(tc_0.max()==15)\n",
    "\n",
    "# test case 1\n",
    "tc_1 = BST(**data['testcase_1'])\n",
    "assert(tc_1.max()==13)\n",
    "\n",
    "# test case 2\n",
    "tc_2 = BST(**data['testcase_2'])\n",
    "assert(tc_2.max()==60)\n",
    "\n",
    "# test case 3\n",
    "tc_3 = BST(**data['testcase_3'])\n",
    "assert(tc_3.max()==20)\n",
    "\n",
    "# test case 4\n",
    "tc_4 = BST(**data['testcase_4'])\n",
    "assert(tc_4.max()==50)\n",
    "\n",
    "# test case 5\n",
    "tc_5 = BST(**data['testcase_5'])\n",
    "assert(tc_5.max()==1100)"
   ]
  },
  {
   "cell_type": "markdown",
   "metadata": {
    "id": "8YPlYzaEHkOf"
   },
   "source": [
    "## **Floor vs Ceiling (15 pts)**"
   ]
  },
  {
   "cell_type": "markdown",
   "metadata": {
    "id": "Y4NAaa5LyOOL"
   },
   "source": [
    "<center><img src=\"https://drive.google.com/uc?export=view&id=1BDRbcJjbrimvjbRMjChq0wPoIh5y6Hiz\" width=\"25%\" height=\"20%\">"
   ]
  },
  {
   "cell_type": "markdown",
   "metadata": {
    "id": "RCypI-uW2gu8"
   },
   "source": [
    "Given a key *k*, floor is the maximum key in the tree that is smaller than k. For example, floor(9) in the example is 5. Ceiling is the opposite of floor, which is the minimum key bigger than k. \n",
    "\n",
    "To find floor with a given key *k*, we have the following observations:\n",
    "\n",
    "\n",
    "1.   if *k* is less than the key at the root of a BST, the floor **must** be in the left subtree. We traverse left.\n",
    "2.   If *k* is equal to the key at the root, we return *k*.\n",
    "3.   If **k** is greater than the key at the root of a BST, the floor **could** be in the right subtree. If we cannot find floor in the right subtree, then floor is the key at the root.\n",
    "\n",
    "The last observation can be verified by finding floor(10). We start at key 20 and traverse left as 10 < 20. At root 9, as 10 > 9 so we traverse right and then traverse left at root 12. However, root 12 has null left link, which means floor(10) is 9. \n"
   ]
  },
  {
   "cell_type": "markdown",
   "metadata": {
    "id": "pO-HvZOM6fGM"
   },
   "source": [
    "**Test cases for floor**"
   ]
  },
  {
   "cell_type": "code",
   "execution_count": 27,
   "metadata": {
    "id": "1dqoSPmxHr0N"
   },
   "outputs": [],
   "source": [
    "# test case 1\n",
    "tc_1 = BST(**data['testcase_1'])\n",
    "assert(tc_1.floor(9)==8)\n",
    "assert(tc_1.floor(5)==4)\n",
    "assert(tc_1.floor(10)==10)\n",
    "assert(tc_1.floor(5)==4)\n",
    "\n",
    "# test case 4\n",
    "tc_4 = BST(**data['testcase_4'])\n",
    "assert(tc_4.floor(55)==50)\n",
    "assert(tc_4.floor(1)==None)\n",
    "assert(tc_4.floor(21)==20)\n",
    "assert(tc_4.floor(28)==25)\n",
    "assert(tc_4.floor(42)==40)"
   ]
  },
  {
   "cell_type": "markdown",
   "metadata": {
    "id": "V2FPh-NA6iuf"
   },
   "source": [
    "**Test cases for ceiling**"
   ]
  },
  {
   "cell_type": "code",
   "execution_count": 28,
   "outputs": [],
   "source": [
    "# test case 1\n",
    "tc_1 = BST(**data['testcase_1'])\n",
    "assert(tc_1.ceiling(9)==10)\n",
    "assert(tc_1.ceiling(4)==4)\n",
    "assert(tc_1.ceiling(5)==6)\n",
    "assert(tc_1.ceiling(2)==3)\n",
    "\n",
    "# test case 4\n",
    "tc_4 = BST(**data['testcase_4'])\n",
    "assert(tc_4.ceiling(31)==35)\n",
    "assert(tc_4.ceiling(41)==45)\n",
    "assert(tc_4.ceiling(25)==25)\n",
    "assert(tc_4.ceiling(51)==None)"
   ],
   "metadata": {
    "collapsed": false
   }
  },
  {
   "cell_type": "markdown",
   "metadata": {
    "id": "rTlUKkuhfUJe"
   },
   "source": [
    "## **Rank (15 pts)**\n"
   ]
  },
  {
   "cell_type": "markdown",
   "metadata": {
    "id": "-uOje7vJ_Ub_"
   },
   "source": [
    "<center><img src=\"https://drive.google.com/uc?export=view&id=1BDRbcJjbrimvjbRMjChq0wPoIh5y6Hiz\" width=\"25%\" height=\"20%\">"
   ]
  },
  {
   "cell_type": "markdown",
   "metadata": {
    "collapsed": false
   },
   "source": []
  },
  {
   "attachments": {},
   "cell_type": "markdown",
   "metadata": {
    "id": "mzDWs5Mn_X1C"
   },
   "source": [
    "Given a key *k*, the rank is defined to be the number of keys that is smaller than *k* in the tree. For example, rank(9) = 2 and rank(15) = 4.\n",
    "\n",
    "To find the rank(k), we have the following observations:\n",
    "\n",
    "\n",
    "1.   If k is equal to the key at root, we return the number of keys t in the left subtree by computing size(root.left)\n",
    "2.   If k is less than the key at the root, we return the rank of the key in the left subtree (in recursive fashion of course)\n",
    "3.   If k is bigger than the ket at the root, we return size(root.left) + 1 + rank of the key is right subtree. \n",
    "\n",
    "**Example for observation 1:** rank(20) can be found by calling size(root.left) = 5 \\\\\n",
    "\n",
    "**Example for observation 2:** To find rank(9), we start at root 20, and as 9 < 20 so we traverse left to reach root 9, where we call size(root.left) = 2. \n",
    "\n",
    "**Example for observation 3:** To find rank(22), we start at root 20, and as 22 > 20 so we return the number of keys in the left subtree of 20 + 1 (root 20 itself) + the number any keys that could be less than 22 in the right subtree of 22. \n",
    "\n"
   ]
  },
  {
   "cell_type": "code",
   "execution_count": 29,
   "metadata": {
    "id": "U5cF5WjWf9Tr"
   },
   "outputs": [],
   "source": [
    "# test case 0\n",
    "tc_0 = BST(**data['testcase_0'])\n",
    "assert(tc_0.rank(6)==3)\n",
    "assert(tc_0.rank(11)==5)\n",
    "\n",
    "# test case 1\n",
    "tc_1 = BST(**data['testcase_1'])\n",
    "assert(tc_1.rank(9)==6)\n",
    "assert(tc_1.rank(4)==2)\n",
    "\n",
    "# test case 2\n",
    "tc_2 = BST(**data['testcase_2'])\n",
    "assert(tc_2.rank(50)==4)\n",
    "assert(tc_2.rank(22)==1)\n",
    "\n",
    "# test case 4\n",
    "tc_4 = BST(**data['testcase_4'])\n",
    "assert(tc_4.rank(42)==7)\n",
    "assert(tc_4.rank(21)==3)"
   ]
  },
  {
   "cell_type": "markdown",
   "metadata": {
    "id": "gIONGO2RHsPh"
   },
   "source": [
    "## **Height (15 pts)** \n",
    "\"I want a man that is at least 6 feet!\" - most girls in UARK \\\\\n",
    "\n",
    "We don't need you to be 6 feet, but we need you to compute the height of the tree given the key *k*. "
   ]
  },
  {
   "cell_type": "markdown",
   "metadata": {
    "id": "cURXZnlRHMom"
   },
   "source": [
    "<center><img src=\"https://drive.google.com/uc?export=view&id=1BDRbcJjbrimvjbRMjChq0wPoIh5y6Hiz\" width=\"25%\" height=\"20%\">"
   ]
  },
  {
   "cell_type": "markdown",
   "metadata": {
    "id": "kVr-yybIHPKk"
   },
   "source": [
    "The height of the tree in the example is 4. The height of the subtree, whose root is 9, is 2. How can we compute the height? We recommend doing it in recursive fashion\n",
    "\n",
    "\n",
    "1.   If the root is None, return -1\n",
    "2.   If the root is not None, return 1 + max[height(root.left),height(root.right)]\n",
    "\n",
    "\n"
   ]
  },
  {
   "cell_type": "code",
   "execution_count": 30,
   "metadata": {
    "id": "1fWI7SWYHsg5"
   },
   "outputs": [],
   "source": [
    "# test case 0\n",
    "tc_0 = BST(**data['testcase_0'])\n",
    "assert(tc_0.height(15)==0)\n",
    "assert(tc_0.height(7)==4)\n",
    "\n",
    "# test case 1\n",
    "tc_1 = BST(**data['testcase_1'])\n",
    "assert(tc_1.height(6)==1)\n",
    "assert(tc_1.height(11)==1)\n",
    "\n",
    "# test case 4\n",
    "tc_4 = BST(**data['testcase_4'])\n",
    "assert(tc_4.height(15)==2)\n",
    "assert(tc_4.height(45)==2)"
   ]
  },
  {
   "cell_type": "markdown",
   "metadata": {
    "id": "T83tgDmfILuO"
   },
   "source": [
    "## **Deletion (20 pts)**"
   ]
  },
  {
   "cell_type": "markdown",
   "metadata": {
    "id": "jYLB9-6bRI33"
   },
   "source": [
    "The most difficult BST operation to implement is the *delete* method that removes a key-value pair. We recommend reading the lecture slides that cover the deletion in the BST."
   ]
  },
  {
   "cell_type": "code",
   "execution_count": 31,
   "metadata": {
    "colab": {
     "base_uri": "https://localhost:8080/"
    },
    "id": "dwCdPsmRIMG9",
    "outputId": "74de7cd5-57fe-4055-c4fc-f0eb6598a925"
   },
   "outputs": [
    {
     "name": "stdout",
     "output_type": "stream",
     "text": [
      "The tree before deleting 6\n",
      "The size of tree before deleting 6 is 9\n",
      "            -> 13\n",
      "      -> 11\n",
      "            -> 10\n",
      "-> 8\n",
      "                  -> 7\n",
      "            -> 6\n",
      "                  -> 4\n",
      "      -> 3\n",
      "            -> 1\n",
      "\n",
      "The tree after deleting 6\n",
      "The size of tree after deleting 6 is 9\n",
      "            -> 13\n",
      "      -> 11\n",
      "            -> 10\n",
      "-> 8\n",
      "            -> 7\n",
      "                  -> 4\n",
      "      -> 3\n",
      "            -> 1\n"
     ]
    }
   ],
   "source": [
    "# test case 1\n",
    "tc_1 = BST(**data['testcase_1'])\n",
    "\n",
    "print(f\"The tree before deleting 6\")\n",
    "print(f\"The size of tree before deleting 6 is {tc_1.size()}\")\n",
    "tc_1.printTree()\n",
    "\n",
    "print(f\"\\nThe tree after deleting 6\")\n",
    "tc_1.delete(6)\n",
    "print(f\"The size of tree after deleting 6 is {tc_1.size()}\")\n",
    "tc_1.printTree()\n"
   ]
  },
  {
   "cell_type": "code",
   "execution_count": 32,
   "metadata": {
    "colab": {
     "base_uri": "https://localhost:8080/"
    },
    "id": "6HNvPtouQNHD",
    "outputId": "37e3ad59-d292-4057-ca59-d7dd72870b9e"
   },
   "outputs": [
    {
     "name": "stdout",
     "output_type": "stream",
     "text": [
      "The tree before deleting 45 and 15\n",
      "The size of tree before deleting 45 and 15 is 9\n",
      "            -> 50\n",
      "      -> 45\n",
      "                  -> 40\n",
      "            -> 35\n",
      "-> 30\n",
      "                  -> 25\n",
      "            -> 20\n",
      "      -> 15\n",
      "            -> 10\n",
      "\n",
      "The tree after deleting 45 and 15\n",
      "The size of tree after deleting 45 and 15 is 9\n",
      "      -> 50\n",
      "                  -> 40\n",
      "            -> 35\n",
      "-> 30\n",
      "            -> 25\n",
      "      -> 20\n",
      "            -> 10\n"
     ]
    }
   ],
   "source": [
    "# test case 1\n",
    "tc_4 = BST(**data['testcase_4'])\n",
    "\n",
    "print(f\"The tree before deleting 45 and 15\")\n",
    "print(f\"The size of tree before deleting 45 and 15 is {tc_4.size()}\")\n",
    "tc_4.printTree()\n",
    "\n",
    "print(f\"\\nThe tree after deleting 45 and 15\")\n",
    "tc_4.delete(45)\n",
    "tc_4.delete(15)\n",
    "print(f\"The size of tree after deleting 45 and 15 is {tc_4.size()}\")\n",
    "tc_4.printTree()"
   ]
  },
  {
   "cell_type": "markdown",
   "metadata": {
    "id": "smejTvkMaiM2"
   },
   "source": [
    "## **Height-Balanced Binary Search Tree (20 pts)**\n",
    "\n",
    "Write a method *avlBalance()* to balance the tree\n"
   ]
  },
  {
   "cell_type": "code",
   "execution_count": 33,
   "metadata": {
    "colab": {
     "base_uri": "https://localhost:8080/"
    },
    "id": "EmdrIGabak3G",
    "outputId": "5ff7ab41-1a10-409c-c94d-f5d12ce94b53"
   },
   "outputs": [
    {
     "name": "stdout",
     "output_type": "stream",
     "text": [
      "The original tree\n",
      "            -> 13\n",
      "      -> 11\n",
      "            -> 10\n",
      "-> 8\n",
      "                  -> 7\n",
      "            -> 6\n",
      "                  -> 4\n",
      "      -> 3\n",
      "            -> 1\n",
      "\n",
      "The tree after adding key 5\n",
      "            -> 13\n",
      "      -> 11\n",
      "            -> 10\n",
      "-> 8\n",
      "                  -> 7\n",
      "            -> 6\n",
      "                        -> 5\n",
      "                  -> 4\n",
      "      -> 3\n",
      "            -> 1\n",
      "\n",
      "The tree after balancing\n",
      "                  -> 13\n",
      "            -> 11\n",
      "                  -> 10\n",
      "      -> 8\n",
      "            -> 7\n",
      "-> 6\n",
      "                  -> 5\n",
      "            -> 4\n",
      "      -> 3\n",
      "            -> 1\n"
     ]
    }
   ],
   "source": [
    "# test case 1\n",
    "tc_1 = BST(**data['testcase_1'])\n",
    "print(\"The original tree\")\n",
    "tc_1.printTree()\n",
    "\n",
    "tc_1.insert(5,\"Hello\")\n",
    "print(\"\\nThe tree after adding key 5\")\n",
    "tc_1.printTree()\n",
    "\n",
    "print(\"\\nThe tree after balancing\")\n",
    "tc_1.avlBalance()\n",
    "tc_1.printTree()"
   ]
  },
  {
   "cell_type": "code",
   "execution_count": 34,
   "metadata": {
    "colab": {
     "base_uri": "https://localhost:8080/"
    },
    "id": "cPUaEg4YlXhQ",
    "outputId": "6540d528-78d9-4a40-eba4-02a1778d0f52"
   },
   "outputs": [
    {
     "name": "stdout",
     "output_type": "stream",
     "text": [
      "The original tree\n",
      "            -> 50\n",
      "      -> 45\n",
      "                  -> 40\n",
      "            -> 35\n",
      "-> 30\n",
      "                  -> 25\n",
      "            -> 20\n",
      "      -> 15\n",
      "            -> 10\n",
      "\n",
      "The tree after adding key 26 and deleting key 40\n",
      "            -> 50\n",
      "      -> 45\n",
      "            -> 35\n",
      "-> 30\n",
      "                        -> 26\n",
      "                  -> 25\n",
      "            -> 20\n",
      "      -> 15\n",
      "            -> 10\n",
      "\n",
      "The tree after balancing\n",
      "                  -> 50\n",
      "            -> 45\n",
      "                  -> 35\n",
      "      -> 30\n",
      "                  -> 26\n",
      "            -> 25\n",
      "-> 20\n",
      "      -> 15\n",
      "            -> 10\n"
     ]
    }
   ],
   "source": [
    "# test case 4\n",
    "tc_4 = BST(**data['testcase_4'])\n",
    "print(\"The original tree\")\n",
    "tc_4.printTree()\n",
    "\n",
    "tc_4.insert(26,\"Hello\")\n",
    "tc_4.delete(40)\n",
    "print(\"\\nThe tree after adding key 26 and deleting key 40\")\n",
    "tc_4.printTree()\n",
    "\n",
    "print(\"\\nThe tree after balancing\")\n",
    "tc_4.avlBalance()\n",
    "tc_4.printTree()"
   ]
  }
 ],
 "metadata": {
  "colab": {
   "collapsed_sections": [
    "Uu7qbEkKHbcj",
    "8YPlYzaEHkOf",
    "rTlUKkuhfUJe",
    "gIONGO2RHsPh",
    "T83tgDmfILuO"
   ],
   "provenance": [],
   "toc_visible": true
  },
  "kernelspec": {
   "display_name": "Python 3",
   "name": "python3"
  },
  "language_info": {
   "name": "python"
  }
 },
 "nbformat": 4,
 "nbformat_minor": 0
}
