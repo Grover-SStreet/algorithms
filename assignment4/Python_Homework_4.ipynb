{
 "nbformat": 4,
 "nbformat_minor": 0,
 "metadata": {
  "colab": {
   "provenance": [],
   "toc_visible": true
  },
  "kernelspec": {
   "name": "python3",
   "display_name": "Python 3"
  },
  "language_info": {
   "name": "python"
  }
 },
 "cells": [
  {
   "cell_type": "markdown",
   "source": [
    "# <center> **Quick sort, Merge sort and Heap sort**\n",
    "\n",
    "\n",
    "### **Important Notes:**\n",
    "*   **Deadline: 11:59 PM (Mid-night) Apr. 11, 2023** \n",
    "*   Any questions should be sent to [sangt@uark.edu](https://)\n",
    "*   Please **start early** and read the instructions as well as examples. \n",
    "*   **We recommend running this file in Google Colab**\n",
    "\n",
    "\n",
    "\n",
    "\n",
    "\n"
   ],
   "metadata": {
    "id": "00g0oY6gtPnN"
   }
  },
  {
   "cell_type": "markdown",
   "source": [
    "Welcome students! In this homework assignment, we will be covering three major sorting algorithms: Quick Sort, Merge Sort, and Heap Sort. You will be required to implement each of these algorithms, and then solve an advanced problem using one of these sorting algorithms.\n",
    "\n",
    "Please implement the functions in the provided spaces and run the test cases to verify your implementation.\n",
    "\n",
    "***Please note that these hints are provided as guidance, and you are not required to strictly follow them as long as your solution does not rely on external libraries and produces the correct results. Feel free to explore alternative approaches to solving these problems as long as you adhere to the problem constraints and use one of the sorting algorithms from Problems 1-3 for Problem 4. Good luck!***"
   ],
   "metadata": {
    "id": "cjvY3XIgyy6q"
   }
  },
  {
   "cell_type": "markdown",
   "source": [
    "# **Problem 1: Quick Sort (20 points)**\n",
    "\n",
    "**Task**: Implement the quick sort algorithm in Python.\n",
    "\n",
    "*Hint:*\n",
    "\n",
    "*   Choose a pivot element (usually the last element in the array).\n",
    "\n",
    "*   Partition the array such that all elements smaller than the pivot are to the left, and all elements larger than the pivot are to the right.\n",
    "\n",
    "*   Recursively apply the quick sort algorithm on the left and right sub-arrays.\n",
    "\n",
    "*   Don't forget to implement the partition function that will return the correct pivot index after partitioning the array."
   ],
   "metadata": {
    "id": "bdvLUqs6y-ZI"
   }
  },
  {
   "cell_type": "code",
   "source": [
    "def partition(array, start, end):\n",
    "    pivot = array[end]\n",
    "    element_pointer = start - 1\n",
    "    for index in range(start, end):\n",
    "        if array[index] <= pivot:\n",
    "            element_pointer += 1\n",
    "            (array[element_pointer], array[index]) = (array[index], array[element_pointer])\n",
    "    (array[element_pointer + 1], array[end]) = (array[end], array[element_pointer + 1])\n",
    "    return element_pointer + 1\n",
    "\n",
    "\n",
    "def quick_sort(temp_array, temp_start, temp_end):\n",
    "    if temp_start < temp_end:\n",
    "        partition_index = partition(temp_array, temp_start, temp_end)\n",
    "        quick_sort(temp_array, temp_start, partition_index - 1)\n",
    "        quick_sort(temp_array, partition_index + 1, temp_end)\n"
   ],
   "metadata": {
    "id": "pNIfbDwbzC88"
   },
   "execution_count": 15,
   "outputs": []
  },
  {
   "cell_type": "code",
   "source": [
    "arr = [3, 6, 1, 9, 5, 2, 4, 7, 8]\n",
    "quick_sort(arr,0,len(arr)-1)\n",
    "assert arr == [1, 2, 3, 4, 5, 6, 7, 8, 9]"
   ],
   "metadata": {
    "id": "uxc52O5xzMrM"
   },
   "execution_count": 16,
   "outputs": []
  },
  {
   "cell_type": "markdown",
   "source": [
    "# **Problem 2: Merge Sort (20 points)**\n",
    "\n",
    "**Task**: Implement the merge sort algorithm in Python.\n",
    "\n",
    "\n",
    "*Hint:*\n",
    "\n",
    "*   Divide the array into two equal halves by finding the middle index.\n",
    "\n",
    "*   Recursively apply the merge sort algorithm on the left and right halves.\n",
    "\n",
    "*   Merge the two sorted halves into a single sorted array.\n",
    "\n",
    "*   Implement the merge function that will combine the two sorted halves into a single sorted array, handling the edge cases where one half still has remaining elements."
   ],
   "metadata": {
    "id": "EQG1-n_uzOit"
   }
  },
  {
   "cell_type": "code",
   "source": [
    "def merge_sort(array):\n",
    "    single_element = 1\n",
    "    if len(array) > single_element:\n",
    "        array_middle = len(array) // 2\n",
    "        left_split = array[:array_middle]\n",
    "        right_split = array[array_middle:]\n",
    "\n",
    "        merge_sort(left_split)\n",
    "        merge_sort(right_split)\n",
    "\n",
    "        index_one = 0\n",
    "        index_two = 0\n",
    "        index_three = 0\n",
    "\n",
    "        while index_one < len(left_split) and index_two < len(right_split):\n",
    "            if left_split[index_one] < right_split[index_two]:\n",
    "                array[index_three] = left_split[index_one]\n",
    "                index_one += 1\n",
    "            else:\n",
    "                array[index_three] = right_split[index_two]\n",
    "                index_two += 1\n",
    "            index_three += 1\n",
    "\n",
    "        while index_one < len(left_split):\n",
    "            array[index_three] = left_split[index_one]\n",
    "            index_one += 1\n",
    "            index_three += 1\n",
    "\n",
    "        while index_two < len(right_split):\n",
    "            array[index_three] = right_split[index_two]\n",
    "            index_two += 1\n",
    "            index_three += 1\n"
   ],
   "metadata": {
    "id": "-5it8tMWzTis"
   },
   "execution_count": 9,
   "outputs": []
  },
  {
   "cell_type": "code",
   "source": [
    "arr = [3, 6, 1, 9, 5, 2, 4, 7, 8]\n",
    "merge_sort(arr)\n",
    "assert arr == [1, 2, 3, 4, 5, 6, 7, 8, 9]\n"
   ],
   "metadata": {
    "id": "B2_hnC-jzW_v"
   },
   "execution_count": 10,
   "outputs": []
  },
  {
   "cell_type": "markdown",
   "source": [
    "# **Problem 3: Heap Sort (20 points)**\n",
    "**Task:** Implement the heap sort algorithm in Python.\n",
    "\n",
    "*Hint:*\n",
    "\n",
    "*   Build a max heap using the input array.\n",
    "*   Implement the heapify function to maintain the max heap property.\n",
    "*   Swap the first element (the maximum value) with the last element of the remaining unsorted array.\n",
    "*   Reduce the size of the heap by one and call the heapify function on the root node.\n",
    "*   Repeat the above steps until the entire array is sorted."
   ],
   "metadata": {
    "id": "t1uhB1PX1M9j"
   }
  },
  {
   "cell_type": "code",
   "source": [
    "def heapify(arr, n, i):\n",
    "    largest = i\n",
    "    left = 2 * i + 1\n",
    "    right = 2 * i + 2\n",
    "\n",
    "    if left < n and arr[left] > arr[largest]:\n",
    "        largest = left\n",
    "\n",
    "    if right < n and arr[right] > arr[largest]:\n",
    "        largest = right\n",
    "\n",
    "    if largest != i:\n",
    "        arr[i], arr[largest] = arr[largest], arr[i]\n",
    "        heapify(arr, n, largest)\n",
    "\n",
    "\n",
    "def heap_sort(temp_array):\n",
    "    length_of_array = len(temp_array)\n",
    "\n",
    "    for i in range(length_of_array // 2, -1, -1):\n",
    "        heapify(temp_array, length_of_array, i)\n",
    "\n",
    "    for index in range(length_of_array - 1, 0, -1):\n",
    "        temp_array[index], temp_array[0] = temp_array[0], temp_array[index]\n",
    "        heapify(temp_array, index, 0)\n"
   ],
   "metadata": {
    "id": "O0xkhI7S1Skr"
   },
   "execution_count": 11,
   "outputs": []
  },
  {
   "cell_type": "code",
   "execution_count": 12,
   "outputs": [],
   "source": [
    "arr = [3, 6, 1, 9, 5, 2, 4, 7, 8]\n",
    "heap_sort(arr)\n",
    "assert arr == [1, 2, 3, 4, 5, 6, 7, 8, 9]"
   ],
   "metadata": {
    "collapsed": false
   }
  },
  {
   "cell_type": "markdown",
   "source": [
    "# **Problem 4: Advanced Sorting Problem (40 points)**\n",
    "**Task:** Given a list of n tuples, where each tuple contains two elements (a string and a number), sort the list of tuples in descending order based on the number. If two tuples have the same number, sort them alphabetically based on the string. Implement this using one of the sorting algorithms from Problems 1-3.\n",
    "\n",
    "*Hint:*\n",
    "*   Use one of the sorting algorithms from Problems 1-3 (Quick Sort, Merge Sort, or Heap Sort).\n",
    "*   Modify the comparison logic in the chosen sorting algorithm to handle tuples with two elements (a string and a number).\n",
    "*   Sort the tuples based on the number in descending order. If two tuples have the same number, sort them alphabetically based on the string.\n",
    "*   You can use a custom comparison function within the chosen algorithm's implementation to handle the tuple comparisons.\n",
    "*   For example, if you choose Merge Sort, modify the merge function to sort tuples based on the number in descending order and then the string in ascending order."
   ],
   "metadata": {
    "id": "kmoNfq7J1Yg2"
   }
  },
  {
   "cell_type": "code",
   "source": [
    "def tuple_partition(array, start, end):\n",
    "    pivot = array[end][1]\n",
    "    element_pointer = start - 1\n",
    "    for j in range(start, end):\n",
    "        if pivot == array[j][1]:\n",
    "            pivot = str(array[end][0])[:1]\n",
    "            if str(array[j][0])[:1] <= pivot:\n",
    "                element_pointer += 1\n",
    "                (array[element_pointer], array[j]) = (array[j], array[element_pointer])\n",
    "            pivot = array[end][1]\n",
    "        else:\n",
    "            if array[j][1] > pivot:\n",
    "                element_pointer += 1\n",
    "                (array[element_pointer], array[j]) = (array[j], array[element_pointer])\n",
    "    (array[element_pointer + 1], array[end]) = (array[end], array[element_pointer + 1])\n",
    "    return element_pointer + 1\n",
    "\n",
    "\n",
    "def sort_tuples(temp_array, temp_start, temp_end):\n",
    "    if temp_start < temp_end:\n",
    "        pivot_element = tuple_partition(temp_array, temp_start, temp_end)\n",
    "        sort_tuples(temp_array, temp_start, pivot_element - 1)\n",
    "        sort_tuples(temp_array, pivot_element + 1, temp_end)\n"
   ],
   "metadata": {
    "id": "IE0h7bzF1f7I"
   },
   "execution_count": 13,
   "outputs": []
  },
  {
   "cell_type": "code",
   "source": [
    "# test case 1\n",
    "arr = [(\"apple\", 5), (\"orange\", 3), (\"banana\", 5), (\"grape\", 1), (\"cherry\", 3)]\n",
    "sort_tuples(arr, 0, len(arr) - 1)\n",
    "assert arr == [(\"apple\", 5), (\"banana\", 5), (\"cherry\", 3), (\"orange\", 3), (\"grape\", 1)]\n",
    "\n",
    "# test case 2\n",
    "arr = [(\"apple\", 5), (\"orange\", 3), (\"banana\", 5), (\"grape\", 1), (\"cherry\", 3), (\"pear\", 2), (\"kiwi\", 2),\n",
    "       (\"pineapple\", 7), (\"mango\", 1), (\"melon\", 7)]\n",
    "sort_tuples(arr, 0, len(arr) - 1)\n",
    "assert arr == [(\"melon\", 7), (\"pineapple\", 7), (\"apple\", 5), (\"banana\", 5), (\"cherry\", 3), (\"orange\", 3), (\"kiwi\", 2),\n",
    "               (\"pear\", 2), (\"grape\", 1), (\"mango\", 1)]\n",
    "\n",
    "# test case 3\n",
    "arr = [(\"x\", 10), (\"a\", 10), (\"c\", 20), (\"b\", 20), (\"d\", 5), (\"e\", 5), (\"g\", 15), (\"f\", 15), (\"h\", 5), (\"i\", 5)]\n",
    "sort_tuples(arr, 0, len(arr) - 1)\n",
    "assert arr == [(\"b\", 20), (\"c\", 20), (\"f\", 15), (\"g\", 15), (\"a\", 10), (\"x\", 10), (\"d\", 5), (\"e\", 5), (\"h\", 5), (\"i\", 5)]\n",
    "\n",
    "# test case 4\n",
    "arr = [(\"laptop\", 7), (\"monitor\", 5), (\"keyboard\", 3), (\"mouse\", 3), (\"printer\", 4), (\"headset\", 4), (\"webcam\", 2),\n",
    "       (\"microphone\", 1), (\"speaker\", 6), (\"charger\", 6)]\n",
    "sort_tuples(arr, 0, len(arr) - 1)\n",
    "assert arr == [(\"laptop\", 7), (\"charger\", 6), (\"speaker\", 6), (\"monitor\", 5), (\"headset\", 4), (\"printer\", 4),\n",
    "               (\"keyboard\", 3), (\"mouse\", 3), (\"webcam\", 2), (\"microphone\", 1)]\n"
   ],
   "metadata": {
    "id": "APJDet3l1gok"
   },
   "execution_count": 14,
   "outputs": []
  }
 ]
}
