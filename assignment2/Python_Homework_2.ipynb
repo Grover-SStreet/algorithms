{
 "nbformat": 4,
 "nbformat_minor": 0,
 "metadata": {
  "colab": {
   "provenance": [],
   "toc_visible": true
  },
  "kernelspec": {
   "name": "python3",
   "display_name": "Python 3"
  },
  "language_info": {
   "name": "python"
  }
 },
 "cells": [
  {
   "cell_type": "markdown",
   "source": [
    "# <center> **Depth-first Search vs Breadth-first Search**\n",
    "\n",
    "### **Important Notes:**\n",
    "*   **Deadline: 12PM (Noon) Feb 27, 2023** \n",
    "*   Any questions should be sent to [minhducl@uark.edu](https://) (author) and [sangt@uark.edu](https://)\n",
    "*   Please **start early** and read the instructions as well as examples. \n",
    "*   **We recommend running this file in Google Colab**\n",
    "*   Run the following code cells for data\n",
    "\n",
    "\n",
    "\n",
    "\n",
    "\n"
   ],
   "metadata": {
    "id": "rfMpgWx5MZvp"
   }
  },
  {
   "cell_type": "code",
   "execution_count": null,
   "metadata": {
    "id": "ozZXOKypTl1Y"
   },
   "outputs": [],
   "source": [
    "# the data will be downloaded to content directory\n",
    "! gdown 14En8oUe2Upott1zQGZ3okLLIYrB1jAS- --quiet\n",
    "! unzip -qq data.zip -d ./\n",
    "! rm data.zip"
   ]
  },
  {
   "cell_type": "markdown",
   "source": [
    "If you click on the Files icon on the left panel of Google Colab, you will see a folder named *data* that contains all the test cases and examples. "
   ],
   "metadata": {
    "id": "KtaL-Wc2NUtK"
   }
  },
  {
   "cell_type": "markdown",
   "source": [
    "#**I. Introduction**\n",
    "In this homework, we will explore how to implement 2 most popular search algorithms on *undirected graph*, i.e. Depth-first Search (DFS) and Breadth-first Search (BFS), and their real-world applications. But before we could lay our hands on search, we should have a proper definition of Graph and start writing its API first. \n",
    "\n",
    "\n",
    "> **Definition:** A *graph* is a set of vertices and a collection of *edges* that each connect a pair of vertices.\n",
    "\n",
    "\n"
   ],
   "metadata": {
    "id": "gqjlDtVtU7dR"
   }
  },
  {
   "cell_type": "markdown",
   "source": [
    "\n",
    "<center><img src=\"https://drive.google.com/uc?export=view&id=1ERKwXnrEXm4DWjJrxwZqg67jGHMrqm-g\" width=\"35%\" height=\"30%\">\n",
    "<figcaption>Figure 1: Example of a graph. This graph has 6 vertices with 7 edges.</figcaption> </center>"
   ],
   "metadata": {
    "id": "7HnGCMKxzdSF"
   }
  },
  {
   "cell_type": "markdown",
   "source": [
    "An example of graph can be seen in Fig 1, which has 6 vertices, named 0 to 5, and 7 edges connecting them. Within the scope of this homework, we use the names 0 through V-1 for the vertices in a V-vertex graph. Normally, a vertex name is not necessarily a number. This naming convention will simplify our implementation given that we have not covered symbol table concept. We use the notation **v-w** to refer to an edge that connects v and w. For example: 0-1 is an edge connecting 0 and 1, and 1-0 refers to the same edge in undirected graph. \n",
    "\n",
    "Before developing any graph-processing algorithms, we want an API that defines the fundamental graph operations. The Graph API below contains the very basic operations for undirected graph. It includes one constructor that will process the file containing graph information, methods to return the number of vertices and edges, a method to add an edge, a method to print the content of the graph in string, and method *adj* to iterate through all the vertices adjacent to a given vertex.\n",
    "\n",
    "\n",
    "**Graph API**\n",
    "```\n",
    "class Graph:\n",
    "    __init__(in_file: str)->None  # read a graph from file\n",
    "    V()->int                      # number of vertices\n",
    "    E()->int                      # number of edges\n",
    "    addEdge(v: int, w: int)->None # add edge v-w to this graph\n",
    "    adj(v: int)->Bag              # vertices adjacent to v\n",
    "    __str__()->int                # string representation\n",
    "```"
   ],
   "metadata": {
    "id": "_AcJV4TdzdGO"
   }
  },
  {
   "cell_type": "code",
   "source": [
    "# import the bag implementation from homework 1\n",
    "from data.adt import Bag\n",
    "\n",
    "class Graph:\n",
    "    def __init__(self, in_file: str) -> None:\n",
    "        # read the input file\n",
    "        with open(in_file, 'r') as f:\n",
    "            lines = f.readlines()\n",
    "\n",
    "        # the line is V\n",
    "        self.vertex_num = int(lines[0])  # number of vertices\n",
    "        self.edge_num = int(lines[1])  # number of edges\n",
    "\n",
    "        # create adjacency lists, each element in this list is a Bag object from HW1\n",
    "        self.graph_adjacency = [Bag() for _ in range(self.vertex_num)]\n",
    "\n",
    "        # read each lines to get the edges\n",
    "        for line in lines[2:]:\n",
    "            v, w = line.split()\n",
    "            self.__addEdge(int(v), int(w))\n",
    "\n",
    "    # return the number of vertices\n",
    "    @property\n",
    "    def V(self):\n",
    "        return self.vertex_num\n",
    "\n",
    "    # return the number of edges\n",
    "    @property\n",
    "    def E(self):\n",
    "        return self.edge_num\n",
    "\n",
    "    # add edge v-w to this graph\n",
    "    def __addEdge(self, v: int, w: int) -> None:\n",
    "        self.graph_adjacency[v].add(w)\n",
    "        if v != w:  # if self-loop, only add edge one time\n",
    "            self.graph_adjacency[w].add(v)\n",
    "\n",
    "    # return all the vertices adjacent to v\n",
    "    def adj(self, v: int) -> Bag:\n",
    "        return self.graph_adjacency[v]\n",
    "\n",
    "    # string representation of the graph - print()\n",
    "    def __str__(self):\n",
    "        s = f\"{self.vertex_num} vertices, {self.edge_num} edges \\n\"\n",
    "        for v in range(self.V):\n",
    "            s += f\"{v} : \"\n",
    "            for w in self.adj(v):\n",
    "                s += f\"{w} \"\n",
    "            s += \"\\n\"\n",
    "        return s"
   ],
   "metadata": {
    "id": "WxCNlF3AjKFC"
   },
   "execution_count": 1,
   "outputs": []
  },
  {
   "cell_type": "markdown",
   "source": [
    "Let's create the graph given in Fig 1"
   ],
   "metadata": {
    "id": "LBIF5aY25Pjt"
   }
  },
  {
   "cell_type": "code",
   "source": [
    "# construct a small graph in figure 1\n",
    "graph = Graph(\"data/example_G.txt\")\n",
    "\n",
    "print(\"Information about the graph\")\n",
    "print(graph)"
   ],
   "metadata": {
    "colab": {
     "base_uri": "https://localhost:8080/"
    },
    "id": "UMnK_xqWWXAC",
    "outputId": "2a8e5f01-1579-4f3c-d708-9c242c1406e0"
   },
   "execution_count": 2,
   "outputs": [
    {
     "name": "stdout",
     "output_type": "stream",
     "text": [
      "Information about the graph\n",
      "6 vertices, 7 edges \n",
      "0 : 4 3 1 2 \n",
      "1 : 5 4 0 \n",
      "2 : 3 0 \n",
      "3 : 2 0 \n",
      "4 : 1 0 \n",
      "5 : 1 \n",
      "\n"
     ]
    }
   ]
  },
  {
   "cell_type": "markdown",
   "source": [
    "To iterate through all the vertices adjacent to vertex 0, we simply do"
   ],
   "metadata": {
    "id": "ibcLNiLYfqP2"
   }
  },
  {
   "cell_type": "code",
   "source": [
    "print(\"Vertices adjacent to vertex 0 are\", end=' ')\n",
    "for v in graph.adj(0):\n",
    "  print(v, end=' ')"
   ],
   "metadata": {
    "colab": {
     "base_uri": "https://localhost:8080/"
    },
    "id": "bY1oHwoqhxrq",
    "outputId": "5806d7c9-14c1-4c90-dc86-7f5490cd829c"
   },
   "execution_count": null,
   "outputs": [
    {
     "output_type": "stream",
     "name": "stdout",
     "text": [
      "Vertices adjacent to vertex 0 are 4 3 1 2 "
     ]
    }
   ]
  },
  {
   "cell_type": "markdown",
   "source": [
    "It looks very simple, right? Now it's your turn to explore what else we could do with this API and graph. The following problems are good warmup before we work on DFS and BFS."
   ],
   "metadata": {
    "id": "geYcEwlPh8JG"
   }
  },
  {
   "cell_type": "markdown",
   "source": [
    "## **Problem 1: (5pts)** \n",
    "Write a function *degree* that takes a graph and a vertex as input, and returns the degree of that vertex. \n",
    "\n",
    "> **Definition:** The degree of a vertex is the number of edges incident to it\n"
   ],
   "metadata": {
    "id": "6yVaV2k5biK4"
   }
  },
  {
   "cell_type": "code",
   "source": [
    "def degree(graph: Graph, v: int) -> int:\n",
    "    return len(graph.graph_adjacency[v])"
   ],
   "metadata": {
    "id": "_wET8PGheksy"
   },
   "execution_count": null,
   "outputs": []
  },
  {
   "cell_type": "markdown",
   "source": [
    "### **Test Cases**"
   ],
   "metadata": {
    "id": "V_sxEXKOiyeG"
   }
  },
  {
   "cell_type": "code",
   "source": [
    "graph_ex = Graph(\"/]/data/example_G.txt\")\n",
    "assert(degree(graph_ex, 1) == 3)\n",
    "\n",
    "graph_tc_1 = Graph(\"/content/data/tc_1.txt\")\n",
    "assert(degree(graph_tc_1, 11) == 2)\n",
    "\n",
    "graph_tc_2 = Graph(\"/content/data/tc_2.txt\")\n",
    "assert(degree(graph_tc_2, 2) == 4)\n",
    "\n",
    "graph_tc_3 = Graph(\"/content/data/tc_3.txt\")\n",
    "assert(degree(graph_tc_3, 1) == 1)\n"
   ],
   "metadata": {
    "id": "gm6U77S1i8nB"
   },
   "execution_count": null,
   "outputs": []
  },
  {
   "cell_type": "markdown",
   "source": [
    "## **Problem 2: (5pts)** \n",
    "Write a function *maxDegree* that takes a graph as input, and returns the maximum degree of that graph. \n"
   ],
   "metadata": {
    "id": "-W79MhWqekaN"
   }
  },
  {
   "cell_type": "code",
   "source": [
    "def maxDegree(graph: Graph)->int:\n",
    "    max_degree = 0\n",
    "    for item in graph.graph_adjacency:\n",
    "        if len(item) > max_degree:\n",
    "            max_degree=len(item)\n",
    "    return max_degree"
   ],
   "metadata": {
    "id": "7hzJRd1YfgqX"
   },
   "execution_count": null,
   "outputs": []
  },
  {
   "cell_type": "markdown",
   "source": [
    "### **Test Cases**"
   ],
   "metadata": {
    "id": "b3V3IJT0mX3O"
   }
  },
  {
   "cell_type": "markdown",
   "source": [],
   "metadata": {
    "collapsed": false
   }
  },
  {
   "cell_type": "code",
   "source": [
    "graph_ex = Graph(\"data/example_G.txt\")\n",
    "assert(maxDegree(graph_ex) == 4)\n",
    "\n",
    "graph_tc_1 = Graph(\"data/tc_1.txt\")\n",
    "assert(maxDegree(graph_tc_1) == 4)\n",
    "\n",
    "graph_tc_2 = Graph(\"data/tc_2.txt\")\n",
    "assert(maxDegree(graph_tc_2) == 4)\n",
    "\n",
    "graph_tc_3 = Graph(\"data/tc_3.txt\")\n",
    "assert(maxDegree(graph_tc_3) == 2)"
   ],
   "metadata": {
    "id": "Q19L5Z-VmiTP"
   },
   "execution_count": null,
   "outputs": []
  },
  {
   "cell_type": "markdown",
   "source": [
    "## **Problem 3: (5pts)** \n",
    "Write a function *numberOfSelfLoops* that takes a graph as input, and returns the number of self-loops.\n"
   ],
   "metadata": {
    "id": "4ODUpCGbeaUB"
   }
  },
  {
   "cell_type": "markdown",
   "source": [
    "<center><img src=\"https://drive.google.com/uc?export=view&id=1Vi-VvGhQcENPrKw8IEeS4jEqG7Ey2ANz\" width=\"25%\" height=\"25%\">\n",
    "<figcaption>Figure 2: Example of a self loop.</figcaption> </center>"
   ],
   "metadata": {
    "id": "YOOuQsFG3-1d"
   }
  },
  {
   "cell_type": "code",
   "source": [
    "def numberOfSelfLoops(graph: Graph) -> int:\n",
    "    count = 0\n",
    "    for item in range(len(graph.graph_adjacency)):\n",
    "        if item in graph.adj(item):\n",
    "            count += 1\n",
    "\n",
    "    return count"
   ],
   "metadata": {
    "id": "vkE_yzjsmPa5"
   },
   "execution_count": null,
   "outputs": []
  },
  {
   "cell_type": "markdown",
   "source": [
    "### **Test Cases**"
   ],
   "metadata": {
    "id": "7JyKpwUVmksa"
   }
  },
  {
   "cell_type": "code",
   "source": [
    "graph_ex = Graph(\"data/example_G.txt\")\n",
    "assert(numberOfSelfLoops(graph_ex) == 0)\n",
    "\n",
    "graph_tc_1 = Graph(\"data/tc_1.txt\")\n",
    "assert(numberOfSelfLoops(graph_tc_1) == 0)\n",
    "\n",
    "graph_tc_2 = Graph(\"data/tc_2.txt\")\n",
    "assert(numberOfSelfLoops(graph_tc_2) == 0)\n",
    "\n",
    "graph_tc_3 = Graph(\"data/tc_3.txt\")\n",
    "assert(numberOfSelfLoops(graph_tc_3) == 3)"
   ],
   "metadata": {
    "id": "JNhT9IJImpLR"
   },
   "execution_count": null,
   "outputs": []
  },
  {
   "cell_type": "markdown",
   "source": [
    "# **II. Depth-first Search (DFS)**\n",
    "\n",
    "In this section, we will learn how to implement DFS. This algorithm is super simple with only 2 steps:\n",
    "\n",
    "\n",
    "1.   Visit a vertex and mark it as having been visited\n",
    "2.   Visit all the vertices that are adjacent to it and that have not yet been marked. \n",
    "\n",
    "The important keyword is **marked**, thus we should have an attribute in our API to keep track of visited vertices. A very interesting note about DFS is we can implement it in a recursive fashion or by using stack. We will provide you with the API that implement recursive DFS, which serves as a good template for you to implement DFS the other way. \n",
    "\n",
    "---\n",
    "##**Q&A**:\n",
    "\n",
    "**[Q]**: What exactly are we using DFS for in this section?\n",
    "\n",
    "**[A]**: DFS can tackle several graph-processing problems. Within this section, we will write a common API that answer the following 2 queries:\n",
    "\n",
    "\n",
    "1.   **Connectivity:** Are the two given vertices connected? How many vertices are connected to a source vertex s\n",
    "2.   **Single-source paths:** Is there a path from a source vertex s to a given target vertex v? If so, return the path.\n",
    "---\n",
    "It can be seen that we need 2 variables to track the connectivity and the path. we will call them *marked* and *edgeTo*. *marked* tracks if search algorithm has visited the vertex or not. It is just a simple array of boolean values which are initially set to false. *edgeTo* tracks the last vertex of known path to a particular vertex. It is also an array but of integer values. An animation of how Recursive DFS works is provided in Fig 3 below. The source vertex does not have to be 0. We could start at any vertex but we choose 0 as an example. Make sure you see the changes in *marked* and *edgeTo*.  \n",
    "\n",
    "<center><img src=\"https://drive.google.com/uc?export=view&id=1M-K5tBpPQnbA4oqQmW-sw4mByqw49kfp\" width=\"60%\" height=\"60%\">\n",
    "<figcaption>Figure 3: Implementation of Recursive Depth-first Search</figcaption> </center>\n",
    "\n",
    "\n",
    "\n"
   ],
   "metadata": {
    "id": "nz7AwKu7EpKq"
   }
  },
  {
   "cell_type": "markdown",
   "source": [
    "**Recursive Depth-first Search API**\n",
    "```\n",
    "class RecursiveDFS:\n",
    "    __init__(graph: Graph, s: int)->None  # constructor of DFS\n",
    "    dfs(graph: Graph, v: int)->None       # find all the paths\n",
    "    hasPathTo(v: int)->bool               # is there path between s and v\n",
    "    pathTo(v: int)->Stack                 # return the path from s to v\n",
    "```"
   ],
   "metadata": {
    "id": "fpNkvRKUyGyO"
   }
  },
  {
   "cell_type": "code",
   "source": [
    "from data.adt import Stack \n",
    "\n",
    "class RecursiveDFS:\n",
    "  def __init__(self, g: Graph, s: int)->None:\n",
    "    self.__marked = [False]*g.V   # has dfs() visited this vertex?\n",
    "    self.__edgeTo = [None]*g.V    # last vertex on known path to this vertex\n",
    "    self.__s      = s             # source vertex\n",
    "    self.dfs(g, s)                # doing dfs right in the constructor\n",
    "\n",
    "  def dfs(self, g: Graph, v: int)->None:\n",
    "    self.__marked[v] = True       # mark the vertex\n",
    "    for w in g.adj(v):            # see the vertices adjacent to v\n",
    "      if self.__marked[w] is False:  # if not visited yet\n",
    "        self.__edgeTo[w] = v         \n",
    "        self.dfs(g, w)\n",
    "\n",
    "  def hasPathTo(self, v: int)->bool: return self.__marked[v]\n",
    "\n",
    "  def pathTo(self, v: int)->Stack:\n",
    "    if self.hasPathTo(v) is False: return None\n",
    "    path = Stack()\n",
    "    while v != self.__s:\n",
    "      path.push(v)\n",
    "      v = self.__edgeTo[v]\n",
    "    path.push(self.__s)\n",
    "    return path\n"
   ],
   "metadata": {
    "id": "DSQoIVtynr-l"
   },
   "execution_count": null,
   "outputs": []
  },
  {
   "cell_type": "markdown",
   "source": [
    "Let's create the graph from the example and see if we have the similar paths found in Fig 4.\n",
    "<center><img src=\"https://drive.google.com/uc?export=view&id=1DHe05r6oerX9czwAK00NsvG2_Q9CHIua\" width=\"40%\" height=\"40%\">\n",
    "<figcaption>Figure 4: Paths found by DFS</figcaption> </center>\n"
   ],
   "metadata": {
    "id": "93_XJnsgxn2X"
   }
  },
  {
   "cell_type": "code",
   "source": [
    "# create the graph given in the example\n",
    "graph_ex = Graph(\"/content/data/example_G.txt\")\n",
    "\n",
    "# run dfs \n",
    "dfs_ex = RecursiveDFS(graph_ex, 0)\n",
    "\n",
    "# print the path to vertex i\n",
    "print(\"The path to vertex \")\n",
    "for i in range(1,6):\n",
    "  print(f\" - {i} is {dfs_ex.pathTo(i)}\")"
   ],
   "metadata": {
    "id": "UWpiw1b4EzG7",
    "colab": {
     "base_uri": "https://localhost:8080/"
    },
    "outputId": "5e819e96-2355-473c-aa3a-3730a07baa42"
   },
   "execution_count": null,
   "outputs": [
    {
     "output_type": "stream",
     "name": "stdout",
     "text": [
      "The path to vertex \n",
      " - 1 is [0,4,1]\n",
      " - 2 is [0,3,2]\n",
      " - 3 is [0,3]\n",
      " - 4 is [0,4]\n",
      " - 5 is [0,4,1,5]\n"
     ]
    }
   ]
  },
  {
   "cell_type": "markdown",
   "source": [
    "Our implementation matches exactly the found paths in Fig 4. Woohoo! \n",
    "\n",
    "Now it's your turn to implement another kind of DFS that utilizes Stack. "
   ],
   "metadata": {
    "id": "rWc_NjGNzOf-"
   }
  },
  {
   "cell_type": "markdown",
   "source": [
    "## **Problem 4: (30pts)** \n",
    "Write an API for StackDFS that utilizes Stack to implement DFS. \n",
    "\n",
    "\n",
    "\n",
    "```\n",
    "class StackDFS:\n",
    "    __init__(graph: Graph, s: int)->None  # constructor of DFS\n",
    "    dfs(graph: Graph, v: int)             # find all the paths\n",
    "    hasPathTo(v: int)->bool               # is there path between s and v\n",
    "    pathTo(v: int)->Stack                 # return the path from s to v\n",
    "```\n",
    "\n",
    "**Hint:** StackDFS is very similar to RecursiveDFS. The only difference is in the method *dfs(graph: Graph, v: int)*. Instead of recursive DFS call to the next vertex, we put the next vertex in stack instead. Stack follows LIFO policy, that means whichever vertex comes in last will leave the stack first."
   ],
   "metadata": {
    "id": "BYzaC0z1nTt0"
   }
  },
  {
   "cell_type": "code",
   "source": [
    "class StackDFS:\n",
    "    def __init__(self, g: Graph, s: int) -> None:\n",
    "        self.__marked = [False] * g.V  # has dfs() visited this vertex?\n",
    "        self.__edgeTo = [None] * g.V  # last vertex on known path to this vertex\n",
    "        self.__s = s  # source vertex\n",
    "        self.dfs(g, s)\n",
    "\n",
    "    def dfs(self, g: Graph, s: int) -> None:\n",
    "        stack = Stack()\n",
    "        stack.push(s)\n",
    "        push_back = len(g.adj(s))\n",
    "        counter = 0\n",
    "        self.__marked[s] = True\n",
    "\n",
    "        while not stack.isEmpty() and counter < push_back:\n",
    "            v = stack.pop()\n",
    "            for w in g.adj(v):  # see the vertices adjacent to v\n",
    "                if self.__marked[w] is False:  # if not visited yet\n",
    "                    stack.push(w)\n",
    "                    self.__edgeTo[w] = v\n",
    "                    print(f\"spot W {w} initializing v with {v}\")\n",
    "                    self.__marked[w] = True  # mark the vertex\n",
    "                    break\n",
    "                else:\n",
    "                    stack.push(s)\n",
    "                    counter +=1\n",
    "\n",
    "    def hasPathTo(self, v: int) -> bool:\n",
    "        return self.__marked[v]\n",
    "\n",
    "    def pathTo(self, v: int):\n",
    "        if self.hasPathTo(v) is False:\n",
    "            return None\n",
    "        path = Stack()\n",
    "        while v != self.__s:\n",
    "            path.push(v)\n",
    "            v = self.__edgeTo[v]\n",
    "        path.push(self.__s)\n",
    "        return path\n"
   ],
   "metadata": {
    "id": "KqzC-rETpmf3"
   },
   "execution_count": null,
   "outputs": []
  },
  {
   "cell_type": "markdown",
   "source": [
    "### **Test Cases**  "
   ],
   "metadata": {
    "id": "7u72hnI90KFB"
   }
  },
  {
   "cell_type": "code",
   "source": [
    "# create the graph given in the example\n",
    "graph_ex = Graph(\"data/example_G.txt\")\n",
    "\n",
    "# run dfs\n",
    "dfs_ex = StackDFS(graph_ex, 0)\n",
    "\n",
    "# print the path to vertex i\n",
    "print(\"The path to vertex \")\n",
    "for i in range(1, 6):\n",
    "    print(f\" - {i} is {dfs_ex.pathTo(i)}\")"
   ],
   "metadata": {
    "colab": {
     "base_uri": "https://localhost:8080/"
    },
    "id": "3Yrrsvtx0JDn",
    "outputId": "0c292789-b2a6-4ca3-f61f-87fcf4ff2b29"
   },
   "execution_count": null,
   "outputs": [
    {
     "output_type": "stream",
     "name": "stdout",
     "text": [
      "The path to vertex \n",
      " - 1 is [0,4,1]\n",
      " - 2 is [0,3,2]\n",
      " - 3 is [0,3]\n",
      " - 4 is [0,4]\n",
      " - 5 is [0,4,1,5]\n"
     ]
    }
   ]
  },
  {
   "cell_type": "markdown",
   "source": [
    "# **III. Breadth-first Search (BFS)**\n",
    "\n"
   ],
   "metadata": {
    "id": "_eOcxz_HE2Fp"
   }
  },
  {
   "cell_type": "markdown",
   "source": [
    "DFS seems like enough for searching problem but turns out it cannot find a shortest path (the one with a minimal number of edges). BFS extends the querry of DFS a bit by answering the single-source shortest path question. Fig 5 illustrates how this algorithm works.\n",
    "\n",
    "<center><img src=\"https://drive.google.com/uc?export=view&id=1uZk__ZDlYrqrZ0zfG0z2-VYwAR94BFgq\" width=\"60%\" height=\"60%\">\n",
    "<figcaption>Figure 5: Implementation of Breadth-first Search</figcaption> </center>\n",
    "\n",
    "\n",
    "## **Problem 5: (30pts)** \n",
    "Write an API for BFS.\n",
    "\n",
    "\n",
    "**Breadth-first Search API**\n",
    "```\n",
    "class BFS:\n",
    "    __init__(graph: Graph, s: int)->None  # constructor of BFS\n",
    "    bfs(graph: Graph, v: int)             # find all the paths\n",
    "    hasPathTo(v: int)->bool               # is there path between s and v\n",
    "    pathTo(v: int)->Stack                 # return the path from s to v\n",
    "```\n",
    "\n",
    "**Hint:** Make use of queue. \n",
    "\n"
   ],
   "metadata": {
    "id": "nHkKXhzJ5c_y"
   }
  },
  {
   "cell_type": "code",
   "source": [
    "# Write the API for BFS below\n",
    "from data.adt import Queue\n",
    "\n",
    "class BFS:\n",
    "  def __init__(self, g: Graph, s: int)->None:\n",
    "        self.__marked = [False] * g.V  # has dfs() visited this vertex?\n",
    "        self.__edgeTo = [None] * g.V  # last vertex on known path to this vertex\n",
    "        self.__s = s  # source vertex\n",
    "\n",
    "\n",
    "  def bfs(self, g: Graph, v: int)->None:\n",
    "    # Write your code here\n",
    "\n",
    "      \n",
    "    def hasPathTo(self, v: int) -> bool:\n",
    "        return self.__marked[v]\n",
    "\n",
    "    def pathTo(self, v: int):\n",
    "        if self.hasPathTo(v) is False:\n",
    "            return None\n",
    "        path = Stack()\n",
    "        while v != self.__s:\n",
    "            path.push(v)\n",
    "            v = self.__edgeTo[v]\n",
    "        path.push(self.__s)\n",
    "        return path\n",
    "\n"
   ],
   "metadata": {
    "id": "fOLkU1i-E9uP"
   },
   "execution_count": null,
   "outputs": []
  },
  {
   "cell_type": "markdown",
   "source": [
    "### **Test Cases**  \n"
   ],
   "metadata": {
    "id": "jP_S-dK3c1OR"
   }
  },
  {
   "cell_type": "code",
   "source": [
    "# create the graph given in the example\n",
    "graph_ex = Graph(\"/content/data/example_G.txt\")\n",
    "\n",
    "# run dfs \n",
    "bfs_ex = BFS(graph_ex, 0)\n",
    "\n",
    "# print the path to vertex i\n",
    "print(\"The path to vertex \")\n",
    "for i in range(1,6):\n",
    "  print(f\" - {i} is {bfs_ex.pathTo(i)}\")"
   ],
   "metadata": {
    "colab": {
     "base_uri": "https://localhost:8080/"
    },
    "id": "ziQbbRMKcSj3",
    "outputId": "f8f0c63c-afdf-4f8d-a1f6-dedf93af9fe8"
   },
   "execution_count": null,
   "outputs": [
    {
     "output_type": "stream",
     "name": "stdout",
     "text": [
      "The path to vertex \n",
      " - 1 is [0,1]\n",
      " - 2 is [0,2]\n",
      " - 3 is [0,3]\n",
      " - 4 is [0,4]\n",
      " - 5 is [0,1,5]\n"
     ]
    }
   ]
  },
  {
   "cell_type": "markdown",
   "source": [
    "# **IV. Applications**"
   ],
   "metadata": {
    "id": "j_bWUUzzE4nh"
   }
  },
  {
   "cell_type": "markdown",
   "source": [
    "**Problem 6: (25 pts)** <br>\n",
    "\n",
    "---\n",
    "\n",
    "\n",
    "Write a function *hasCycle* that takes a graph as input, and return True if the graph has cycle or false if no cycle detected.\n",
    "\n",
    "**Hint:** Given a vertex, use DFS to find a path that will go back to that vertex. Mind that self-loop and cycle are 2 different things!\n"
   ],
   "metadata": {
    "id": "VdmfM0qf2gL9"
   }
  },
  {
   "cell_type": "code",
   "source": [
    "def hasCycle(graph: Graph)->bool:\n",
    "  # Write your code here\n",
    "  pass"
   ],
   "metadata": {
    "id": "YqibSWQJE7W6"
   },
   "execution_count": null,
   "outputs": []
  },
  {
   "cell_type": "markdown",
   "source": [
    "\n",
    "\n",
    "---\n",
    "\n"
   ],
   "metadata": {
    "id": "bqHsIKsD2cHe"
   }
  }
 ]
}
