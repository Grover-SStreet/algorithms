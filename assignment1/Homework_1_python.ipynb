{
 "nbformat": 4,
 "nbformat_minor": 0,
 "metadata": {
  "colab": {
   "provenance": [],
   "collapsed_sections": [
    "nnZaXnTfRsvH",
    "VFRnVs8174kz",
    "614Dz_WxUDcS",
    "c-HfkoT-nY65"
   ]
  },
  "kernelspec": {
   "name": "python3",
   "display_name": "Python 3"
  },
  "language_info": {
   "name": "python"
  }
 },
 "cells": [
  {
   "cell_type": "markdown",
   "source": [
    "\n",
    "#**Linked list with Collections**\n"
   ],
   "metadata": {
    "id": "nnZaXnTfRsvH"
   }
  },
  {
   "cell_type": "markdown",
   "source": [
    "#**I. Introduction**\n",
    "\n",
    "Thank you for choosing Python as your main programming language. This is our first homework assignment, and we will write the API for the data structures we will need later in this course. \n",
    "\n",
    "You will submit the notebook file (.ipynb) and a brief report (pdf file) showcasing the implementation process and outcomes of the code.\n",
    "\n",
    "**Due date of HW1: 12PM (Noon) Feb 8, 2023**\n",
    "\n",
    "If you have any questions please contact us via Teams or email: minhducl@uark.edu and sangt@uark.edu \n",
    "\n",
    "Several fundamental data type involves *collections* of objects, e.g. Python has list, tuple, set and dictionary, and the *operations* revolving around adding, removing, or examining the objects in the collection. In this assignment, we will look into 3 popular data types, i.e. bag, queue and stack. The main difference among them is the specifications of which objects is to be removed and examined next. \n",
    "\n",
    "Although we could utilize the Python built-in data type such as list to ease the implementation, it is our goal to introduce and show the importance of *linked* data structures in implementing bags, queues and stacks. Understanding linked lists is pivotal to understanding algorithms and data structures. \n",
    "\n"
   ],
   "metadata": {
    "id": "VFRnVs8174kz"
   }
  },
  {
   "cell_type": "markdown",
   "source": [
    "# **II. Linked List**\n",
    "\n",
    "> A *linked list* is a recursive data structure that is either empty or a reference to a *node* having a generic item and a reference to a linked list.\n",
    "\n",
    "In this section, we will introduce linked list, a data structure that is not directly supported by the Python language. As defined above, linked lists make use of *node*, an abstract entity that could contain any kind of data, and *node reference* that aids in building linked lists. This fundamental data structure is very efficient when it comes to writing recursive program. \n",
    "\n",
    "Python is an object-oriented programming language and we will utilize *class* to define node abstraction. \n",
    "\n",
    "\n"
   ],
   "metadata": {
    "id": "614Dz_WxUDcS"
   }
  },
  {
   "cell_type": "code",
   "source": [
    "# implementation of Node abstraction\n",
    "class Node:\n",
    "  def __init__(self):\n",
    "    self.item = None   # an item\n",
    "    self.next = None   # a node"
   ],
   "metadata": {
    "id": "jUNgSbfpLrVP"
   },
   "execution_count": null,
   "outputs": []
  },
  {
   "cell_type": "markdown",
   "source": [
    "a Node has two attributes: an item and a node. The code looks way too simple as we only override the default constructor by creating 2 variables *item* and *next*, and set them both to None. *item* is a placeholder for any data that we want to structure with a linked list. *next* is a reference to the next node. \n",
    "\n",
    "##**Q&A**:\n",
    "**[Q]**: This node definition only works for singly linked list. What if I want node for doubly linked list?\n",
    "\n",
    "**[A]**: We can add another attribute *prev* that points to previous node to build doubly linked list. Implementation of our considered data types only requires singly linked list, thus having *prev* is a waste of memory. Our Node definition will be nested inside class definition of other data types, as you will see when we define bag.\n",
    "\n",
    "With Node definition above, we will construct a very simple linked list that has 3 nodes: first, second and third. Structure of the linked list can be seen below:\n",
    "\n",
    "                        first\n",
    "                    |item: \"to\"  |\n",
    "                    |next: second| ->   second\n",
    "                                     |item: \"be\"  |\n",
    "                                     |next: third | ->   third    \n",
    "                                                      |item: \"or\" |\n",
    "                                                      |next: None |  ->  None\n"
   ],
   "metadata": {
    "id": "Z1Vs3D_wefa4"
   }
  },
  {
   "cell_type": "code",
   "source": [
    "# initialize 3 nodes\n",
    "first  = Node()\n",
    "second = Node()\n",
    "third  = Node()\n",
    "\n",
    "# add content to the node\n",
    "first.item  = \"to\"   # first node\n",
    "second.item = \"be\"  # second node\n",
    "third.item  = \"or\"   # third node\n",
    "\n",
    "# building the linked list\n",
    "first.next  = second \n",
    "second.next = third\n",
    "\n",
    "# iterate through this linked list and print the items\n",
    "node = first\n",
    "while node is not None:\n",
    "  print(node.item)\n",
    "  node = node.next\n",
    "del node # delete the temporary node"
   ],
   "metadata": {
    "colab": {
     "base_uri": "https://localhost:8080/"
    },
    "id": "P7WAf1h8MDMz",
    "outputId": "df39e5ee-b336-4e52-9bc8-c33701fb60d7"
   },
   "execution_count": null,
   "outputs": [
    {
     "output_type": "stream",
     "name": "stdout",
     "text": [
      "to\n",
      "be\n",
      "or\n"
     ]
    }
   ]
  },
  {
   "cell_type": "markdown",
   "source": [
    "One big advantage of linked lists is we don't need to tell the size of the list before creating it. The list can always take in new value and remove the current value. We can easily iterate through the list using while loop with the stop conditon that the current node is None. This demo should be enough for us to understand how to build linked list in Python. Let's talk about Bag, Queue and Stack."
   ],
   "metadata": {
    "id": "3OiYYtsJvjfB"
   }
  },
  {
   "cell_type": "markdown",
   "source": [
    "#**III. Bag**\n",
    "\n",
    "A *bag* is a collection where removing items is not supported. Its purpose is to provide clients with the ability to collect items and iterate through all the items in the bag. Before we implement this data type, let's see exactly what we need for *bag*.\n",
    "\n",
    "**Bag API**\n",
    "```\n",
    "class Bag():\n",
    "    __init__()->None       # create an empty bag\n",
    "    add(item: Item)->None  # add an item\n",
    "    isEmpty()->bool        # is the bag empty?\n",
    "    __len__()->int         # number of items in the bag\n",
    "```\n",
    "From the API, we need 4 methods to replicate the characteristic of *bag*. In fact, we might need more than 4 methods but these are the most important for this data type. The implementation code can be seen in the cell below"
   ],
   "metadata": {
    "id": "c-HfkoT-nY65"
   }
  },
  {
   "cell_type": "code",
   "source": [
    "from typing import TypeVar\n",
    "Item = TypeVar('Item')  # don't worry about this, it makes code more readable\n",
    "\n",
    "class Bag:\n",
    "  # define the constructor with 2 private attributes\n",
    "  def __init__(self) -> None:\n",
    "    self.__N     = 0     # number of items - private \n",
    "    self.__first = None  # point to first item in the bag - private \n",
    "\n",
    "  # add an item to bag\n",
    "  def add(self, item: Item) -> None:\n",
    "    oldFirst = self.__first \n",
    "    self.__first = self.Node()   # create a new node\n",
    "    self.__first.item = item     # add content to that node\n",
    "    self.__first.next = oldFirst # create a reference to next node\n",
    "    self.__N += 1                # increment the size of bag by 1\n",
    "\n",
    "  # nested class Node inside class Bag\n",
    "  class Node:\n",
    "    def __init__(self) -> None:\n",
    "      self.item = None\n",
    "      self.next = None\n",
    "\n",
    "  # method to check if bag is empty\n",
    "  def isEmpty(self) -> bool:\n",
    "    return self.__N == 0\n",
    "\n",
    "  # method to return the size of bag\n",
    "  def __len__(self) -> int:\n",
    "    return self.__N\n",
    "\n",
    "  # print the content of the bag\n",
    "  def __str__(self) -> str:\n",
    "    output_str = \"[\"\n",
    "    self.__iter_node = self.__first\n",
    "    while True:\n",
    "      if self.__iter_node is not None:\n",
    "        output_str += f'{self.__iter_node.item}'\n",
    "        self.__iter_node = self.__iter_node.next\n",
    "      if self.__iter_node is not None:\n",
    "        output_str += ','\n",
    "      else: \n",
    "        break\n",
    "    output_str += ']'\n",
    "    return output_str\n",
    "\n",
    "  # The 2 methods below make the objects iterable\n",
    "  def __iter__(self):\n",
    "    self.__iter_node = self.__first\n",
    "    return self\n",
    "\n",
    "  def __next__(self):\n",
    "    if self.__iter_node is not None:\n",
    "      x = self.__iter_node.item\n",
    "      self.__iter_node = self.__iter_node.next\n",
    "      return x\n",
    "    else:\n",
    "      raise StopIteration\n"
   ],
   "metadata": {
    "id": "DDubKANz3jzv"
   },
   "execution_count": null,
   "outputs": []
  },
  {
   "cell_type": "markdown",
   "source": [
    "The code implementation above is self-explanatory. Let's create a bag example and see what we can do with it.\n"
   ],
   "metadata": {
    "id": "JBSA53jddNFa"
   }
  },
  {
   "cell_type": "code",
   "source": [
    "# create a variable of type Bag\n",
    "bag = Bag()\n",
    "print(f'The bag after initialization is {bag}')\n",
    "\n",
    "# check if the bag is empty\n",
    "print(f\"bag is empty: {bag.isEmpty()} \\n\")\n",
    "\n",
    "# let's add some items to this bag. Items could be of any data type\n",
    "bag.add(\"Sang\")\n",
    "bag.add(17)\n",
    "bag.add(\"5ft10\")\n",
    "\n",
    "# print the content of bag\n",
    "print(f\"The size of the bag after adding is {len(bag)}\")   # thanks to __len__()\n",
    "print('The items in the bag after adding are')\n",
    "print(bag)   #  thanks to __str__()\n",
    "\n",
    "# iterate through the bags and print each item\n",
    "print(\"\\nIterate through this bag\")\n",
    "for item in bag:    # thanks to __iter__ and __next__\n",
    "  print(item, end='  ')"
   ],
   "metadata": {
    "colab": {
     "base_uri": "https://localhost:8080/"
    },
    "id": "HIW4VzuidMiD",
    "outputId": "6a023ed2-ac89-4430-cc6c-79b66ab9143c"
   },
   "execution_count": null,
   "outputs": [
    {
     "output_type": "stream",
     "name": "stdout",
     "text": [
      "The bag after initialization is []\n",
      "bag is empty: True \n",
      "\n",
      "The size of the bag after adding is 3\n",
      "The items in the bag after adding are\n",
      "[5ft10,17,Sang]\n",
      "\n",
      "Iterate through this bag\n",
      "5ft10  17  Sang  "
     ]
    }
   ]
  },
  {
   "cell_type": "markdown",
   "source": [
    "# **IV. FIFO Queue** (25 pts)"
   ],
   "metadata": {
    "id": "6TNz7QQ02C-K"
   }
  },
  {
   "cell_type": "markdown",
   "source": [
    "A *queue* is a collection that is based on the first-in-first-out (FIFO) policy. Whatever item comes in the queue first must leave first. Queues are a natural model for many everyday phenomena, and they play a very important role in many applications. When a client iterates through the items in a queue, the items are processed in the order they were added to the queue. In this section, you have to\n",
    "\n",
    "\n",
    "1.   Write the class definition of Queue\n",
    "2.   Run the test cases that we provide below\n",
    "\n",
    "*You will get full 25 pts upon successful run of all test cases (including the ones hidden from this file). You have to use linked list to implement queue*.\n",
    "\n",
    "\n",
    "\n",
    "**Queue API**\n",
    "```\n",
    "class Queue():\n",
    "    __init__()->None           # create an empty queue\n",
    "    enqueue(item: Item)->None  # add an item\n",
    "    dequeue()->Item            # remove the least recently added item\n",
    "    isEmpty()->bool            # is the queue empty?\n",
    "    __len__()->int             # number of items in the queue\n",
    "```"
   ],
   "metadata": {
    "id": "CqrWcdzA2K2e"
   }
  },
  {
   "cell_type": "code",
   "source": [
    "class Queue:\n",
    "    \"\"\"\n",
    "    A class implementation of Queue for FIFO with a linked-list implementation.\n",
    "\n",
    "    Args:\n",
    "        None\n",
    "\n",
    "    Attributes:\n",
    "        front (Node): Front node in list can be None\n",
    "        rear (Node): Last Node in the list can be None\n",
    "        size (Int): The size of the queue\n",
    "    \"\"\"\n",
    "\n",
    "    def __init__(self):\n",
    "        self.front = self.rear = None\n",
    "        self.size = 0\n",
    "\n",
    "    class Node:\n",
    "        \"\"\"\n",
    "        A class representation of a node object\n",
    "\n",
    "        Args:\n",
    "            item (Int): An integer value\n",
    "\n",
    "        Attributes:\n",
    "            next (Node): Next Node in Linked-List can be None\n",
    "        \"\"\"\n",
    "\n",
    "        def __init__(self, item):\n",
    "            self.item = item\n",
    "            self.next = None\n",
    "\n",
    "    def __len__(self):\n",
    "        \"\"\"\n",
    "        Class implementation of length\n",
    "\n",
    "        Returns:\n",
    "            size (Int): Size of queue\n",
    "\n",
    "        \"\"\"\n",
    "        return self.size\n",
    "\n",
    "    def isEmpty(self):\n",
    "        \"\"\"\n",
    "        Determines if the queue is empty\n",
    "\n",
    "        Returns:\n",
    "            bool: Tells the user if the queue is empty\n",
    "\n",
    "        \"\"\"\n",
    "        return self.front is None\n",
    "\n",
    "    def enqueue(self, item):\n",
    "        \"\"\"\n",
    "        Enqueues an item into the Queue by initializing a node in the linked list.\n",
    "\n",
    "        Args:\n",
    "            item (Int): Data point to add for Node\n",
    "\n",
    "        Returns:\n",
    "            None\n",
    "        \"\"\"\n",
    "        temp_node = self.Node(item)\n",
    "\n",
    "        if self.rear is None:\n",
    "            self.front = self.rear = temp_node\n",
    "            self.size += 1\n",
    "            return\n",
    "\n",
    "        self.size += 1\n",
    "        self.rear.next = temp_node\n",
    "        self.rear = temp_node\n",
    "\n",
    "    def dequeue(self):\n",
    "        \"\"\"\n",
    "        Dequeue Item from queue / Linked-List with FIFO strategy\n",
    "\n",
    "        Returns:\n",
    "            Item (Int): data element that will be dequeued\n",
    "\n",
    "        \"\"\"\n",
    "        if self.isEmpty():\n",
    "            return\n",
    "\n",
    "        dequeue_item = self.front.item\n",
    "        temp_node = self.front\n",
    "        self.front = temp_node.next\n",
    "        self.size -= 1\n",
    "\n",
    "        if self.front is None:\n",
    "            self.rear = None\n",
    "        return dequeue_item\n",
    "\n",
    "\n",
    "    def __str__(self) -> str:\n",
    "        \"\"\"\n",
    "        String implementation of class that prints the Linked-List / Queue contents.\n",
    "\n",
    "        Returns:\n",
    "            output_str (String): A string representation of the queue\n",
    "\n",
    "        \"\"\"\n",
    "        output_str = \"[\"\n",
    "        self.__iter_node = self.front\n",
    "        while True:\n",
    "            if self.__iter_node is not None:\n",
    "                output_str += f'{self.__iter_node.item}'\n",
    "                self.__iter_node = self.__iter_node.next\n",
    "            if self.__iter_node is not None:\n",
    "                output_str += ','\n",
    "            else:\n",
    "                break\n",
    "        output_str += ']'\n",
    "        return output_str\n"
   ],
   "metadata": {
    "id": "Praq255-p0cB"
   },
   "execution_count": 1,
   "outputs": []
  },
  {
   "cell_type": "markdown",
   "source": [
    "**Test case 1**"
   ],
   "metadata": {
    "id": "41fOF_APvZ7C"
   }
  },
  {
   "cell_type": "code",
   "source": [
    "# initializing queue\n",
    "queue = Queue()\n",
    "print(f'The queue after initialization is {queue}')\n",
    "assert(queue.isEmpty() == True)  # check if isEmpty works properly\n",
    "\n",
    "# add the items to queue\n",
    "for i in range(5):\n",
    "  queue.enqueue(i)\n",
    "print(f'The queue after enqueue is {queue}')\n",
    "\n",
    "assert(queue.isEmpty() == False)  # check if isEmpty works properly\n",
    "assert(len(queue) == 5)           # check if __len__ works properly"
   ],
   "metadata": {
    "colab": {
     "base_uri": "https://localhost:8080/"
    },
    "id": "yrZJlezKq-jd",
    "outputId": "2e85465a-d108-4364-80d9-f913ddc002b5"
   },
   "execution_count": 4,
   "outputs": [
    {
     "name": "stdout",
     "output_type": "stream",
     "text": [
      "The queue after initialization is []\n",
      "The queue after enqueue is [0,1,2,3,4]\n"
     ]
    }
   ]
  },
  {
   "cell_type": "markdown",
   "source": [
    "**Test case 2**"
   ],
   "metadata": {
    "id": "m8xY3WEarF0Q"
   }
  },
  {
   "cell_type": "code",
   "source": [
    "# dequeue the queue\n",
    "print(\"Dequeue the queue\")\n",
    "while len(queue) > 0:\n",
    "  item = queue.dequeue()\n",
    "  print(f'item dequeued from queue: {item}')\n",
    "  print(f'queue: {queue}')\n",
    "  print(f'length of queue: {len(queue)}')\n",
    "\n",
    "assert(queue.isEmpty() == True)\n",
    "\n",
    "# enqueue the queue\n",
    "queue.enqueue(5)\n",
    "print(f\"\\nQueue after enqueue: {queue}\")\n",
    "print(f\"Length of queue: {len(queue)}\")"
   ],
   "metadata": {
    "colab": {
     "base_uri": "https://localhost:8080/"
    },
    "id": "CK1mYV84rLvb",
    "outputId": "36d47336-f5e9-488b-8a9c-e7176974fca7"
   },
   "execution_count": 5,
   "outputs": [
    {
     "name": "stdout",
     "output_type": "stream",
     "text": [
      "Dequeue the queue\n",
      "item dequeued from queue: 0\n",
      "queue: [1,2,3,4]\n",
      "length of queue: 4\n",
      "item dequeued from queue: 1\n",
      "queue: [2,3,4]\n",
      "length of queue: 3\n",
      "item dequeued from queue: 2\n",
      "queue: [3,4]\n",
      "length of queue: 2\n",
      "item dequeued from queue: 3\n",
      "queue: [4]\n",
      "length of queue: 1\n",
      "item dequeued from queue: 4\n",
      "queue: []\n",
      "length of queue: 0\n",
      "\n",
      "Queue after enqueue: [5]\n",
      "Length of queue: 1\n"
     ]
    }
   ]
  },
  {
   "cell_type": "markdown",
   "source": [
    "# **V. Pushdown (LIFO) stack** (25 pts)"
   ],
   "metadata": {
    "id": "JqNz1z682MG9"
   }
  },
  {
   "cell_type": "markdown",
   "source": [
    "A *stack* is a collection that is based on the last-in-first-out (LIFO) policy. When we click a hyperlink from a current page, our browser displays the new page. We can keep clicking on hyperlinks to visit new pages, but we can visit the previous page just by clicking the back button. This is one application of stack. In this section, you have to\n",
    "\n",
    "\n",
    "1.   Write the class definition of Stack\n",
    "2.   Run the test cases that we provide below\n",
    "\n",
    "*You will get full 25 pts upon successful run of all test cases (including the ones hidden from this file). You have to use linked list to implement stack*.\n",
    "\n",
    "\n",
    "**Stack API**\n",
    "```\n",
    "class Stack():\n",
    "    __init__()->None       # create an empty stack\n",
    "    push(item: Item)->None # add an item\n",
    "    pop()->Item            # remove the most recently added item\n",
    "    isEmpty()->bool        # is the stack empty?\n",
    "    __len__()->int         # number of items in the stack\n",
    "```"
   ],
   "metadata": {
    "id": "lWQOklXU2QA1"
   }
  },
  {
   "cell_type": "code",
   "source": [
    "# Write class definition of stack below this line \n",
    "class Stack:\n",
    "    \"\"\"\n",
    "    Class implementation of a stack utilizing Linked-Lists\n",
    "\n",
    "    Attributes:\n",
    "        front (Node): Head of the stack\n",
    "        size (Int): Number of elements in the Stack\n",
    "\n",
    "    \"\"\"\n",
    "\n",
    "    def __init__(self):\n",
    "        self.front = None\n",
    "        self.size = 0\n",
    "\n",
    "    class Node:\n",
    "        \"\"\"\n",
    "        Models a node within the Linked-List / Stack\n",
    "\n",
    "        Attributes:\n",
    "            item (Any): Data element of the Node\n",
    "            next (Node): Pointer to next Node\n",
    "        \"\"\"\n",
    "\n",
    "        def __init__(self, item_param):\n",
    "            self.item = item_param\n",
    "            self.next = None\n",
    "\n",
    "    def isEmpty(self):\n",
    "        \"\"\"\n",
    "        Determines if the stack is empty or not\n",
    "\n",
    "        Returns:\n",
    "            (bool): True or False\n",
    "\n",
    "        \"\"\"\n",
    "        return self.front is None\n",
    "\n",
    "    def push(self, data):\n",
    "        \"\"\"\n",
    "        Pushes an item onto the Stack\n",
    "\n",
    "        Args:\n",
    "            data: data element to initialize node with\n",
    "\n",
    "        Returns:\n",
    "            None\n",
    "        \"\"\"\n",
    "\n",
    "        if self.front is None:\n",
    "            self.front = self.Node(data)\n",
    "            self.size += 1\n",
    "        else:\n",
    "            self.size += 1\n",
    "            temp_node = self.Node(data)\n",
    "            temp_node.next = self.front\n",
    "            self.front = temp_node\n",
    "\n",
    "    def pop(self):\n",
    "        \"\"\"\n",
    "        Removes the last in element from the stack\n",
    "\n",
    "        Returns:\n",
    "            (Node): The node that was popped off the stack\n",
    "\n",
    "        \"\"\"\n",
    "        if self.isEmpty():\n",
    "            return None\n",
    "        else:\n",
    "            self.size -= 1\n",
    "            temp_node = self.front\n",
    "            self.front = self.front.next\n",
    "            temp_node.next = None\n",
    "            return temp_node.item\n",
    "\n",
    "    def __len__(self):\n",
    "        \"\"\"\n",
    "        Class implementation of length\n",
    "\n",
    "        Returns:\n",
    "            (int): Size of the stack\n",
    "\n",
    "        \"\"\"\n",
    "        return self.size\n",
    "\n",
    "    def __str__(self) -> str:\n",
    "        \"\"\"\n",
    "        String implementation of class that prints the Linked-List / Stack contents.\n",
    "\n",
    "        Returns:\n",
    "            output_str (String): A string representation of the Stack\n",
    "\n",
    "        \"\"\"\n",
    "        output_str = \"[\"\n",
    "        self.__iter_node = self.front\n",
    "        while True:\n",
    "            if self.__iter_node is not None:\n",
    "                output_str += f'{self.__iter_node.item}'\n",
    "                self.__iter_node = self.__iter_node.next\n",
    "            if self.__iter_node is not None:\n",
    "                output_str += ','\n",
    "            else:\n",
    "                break\n",
    "        output_str += ']'\n",
    "        return output_str\n",
    "\n",
    "\n"
   ],
   "metadata": {
    "id": "k50yGJZ2IbUm"
   },
   "execution_count": 8,
   "outputs": []
  },
  {
   "cell_type": "markdown",
   "source": [
    "**Test case 1**"
   ],
   "metadata": {
    "id": "O0XM5vgHswRF"
   }
  },
  {
   "cell_type": "code",
   "source": [
    "# initializing stack\n",
    "stack = Stack()\n",
    "print(f'The stack after initialization is {stack}')\n",
    "assert(stack.isEmpty() == True)  # check if isEmpty works properly\n",
    "\n",
    "# add the items to stack\n",
    "for i in range(5):\n",
    "  stack.push(i)\n",
    "print(f'The stack after push is {stack}')\n",
    "\n",
    "assert(stack.isEmpty() == False)  # check if isEmpty works properly\n",
    "assert(len(stack) == 5)           # check if __len__ works properly"
   ],
   "metadata": {
    "id": "CNXtkCLrA6pK",
    "colab": {
     "base_uri": "https://localhost:8080/"
    },
    "outputId": "13369ea0-a55b-4bcc-97df-9be62b6f330a"
   },
   "execution_count": null,
   "outputs": [
    {
     "output_type": "stream",
     "name": "stdout",
     "text": [
      "The stack after initialization is []\n",
      "The stack after push is [4,3,2,1,0]\n"
     ]
    }
   ]
  },
  {
   "cell_type": "markdown",
   "source": [
    "**Test case 2**"
   ],
   "metadata": {
    "id": "HA5mkNwns179"
   }
  },
  {
   "cell_type": "code",
   "source": [
    "# pop the stack\n",
    "print(\"Pop the stack\")\n",
    "while len(stack) > 0:\n",
    "  item = stack.pop()\n",
    "  print(f'item dequeued from stack: {item}')\n",
    "  print(f'stack: {stack}')\n",
    "  print(f'length of stack: {len(stack)}')\n",
    "\n",
    "assert(stack.isEmpty() == True)\n",
    "\n",
    "# enqueue the queue\n",
    "stack.push(5)\n",
    "print(f\"\\nstack after push: {stack}\")\n",
    "print(f\"length of stack: {len(stack)}\")"
   ],
   "metadata": {
    "id": "1y8IlB2OA6b3",
    "colab": {
     "base_uri": "https://localhost:8080/"
    },
    "outputId": "3f37619e-3d79-49ef-f92b-2d93d02eebca"
   },
   "execution_count": null,
   "outputs": [
    {
     "output_type": "stream",
     "name": "stdout",
     "text": [
      "Pop the stack\n",
      "item dequeued from stack: 4\n",
      "stack: [3,2,1,0]\n",
      "length of stack: 4\n",
      "item dequeued from stack: 3\n",
      "stack: [2,1,0]\n",
      "length of stack: 3\n",
      "item dequeued from stack: 2\n",
      "stack: [1,0]\n",
      "length of stack: 2\n",
      "item dequeued from stack: 1\n",
      "stack: [0]\n",
      "length of stack: 1\n",
      "item dequeued from stack: 0\n",
      "stack: []\n",
      "length of stack: 0\n",
      "\n",
      "stack after push: [5]\n",
      "length of stack: 1\n"
     ]
    }
   ]
  },
  {
   "cell_type": "markdown",
   "source": [
    "#**VI. Applications** (50 pts)"
   ],
   "metadata": {
    "id": "-NDKiwCBIl7Q"
   }
  },
  {
   "cell_type": "markdown",
   "source": [
    "**Arithmetic expression evaluation**\n",
    "\n",
    "Given an arithmetic expression in the form of string, e.g.\n",
    "```\n",
    "     \"( 1 + ( ( 2 + 3 ) * ( 4 * 5 ) ) )\"\n",
    "```\n",
    "how can we compute it? \n",
    "\n",
    "Of course, normally we don't go to extra length to add so many parentheses into a simple expression like the one above. A diligent computer science student would learn the precedence rule and make his life easy by writing \n",
    "```\n",
    "     \"1 + ( 2 + 3 ) *  4 * 5\"\n",
    "```\n",
    "instead. However, to simplify the problem, we will make the following assumptions:\n",
    "\n",
    "\n",
    "1.   Arithmetic expressions are *fully parenthesized*.\n",
    "2.   We will support basic mathematic operations like * , + , - , / . The test cases only include these operations\n",
    "\n",
    "You have to write function *evaluate* that takes expression of type string, and returns the result of that arithmetic expression.\n",
    "\n",
    "**Hint**: \n",
    "\n",
    "Initialing 2 empty stacks, one for operand and the others operator.\n",
    "\n",
    "Proceed from left to right and take each entity one at a time\n",
    "\n",
    "\n",
    "*   Push *operands* onto the operand stack.\n",
    "*   Push *operators* onto the operator stack.\n",
    "*   Ignore *left* parentheses\n",
    "*   On encountering a *right* parenthesis, pop an operator, pop the requisite number\n",
    "of operands, and push onto the operand stack the result of applying that operator to those operands.\n",
    "\n",
    "We can see there is a white space between operators, operands and parentheses. Thus, it is a good idea to use string built-in split() method.\n",
    "\n",
    "**Notes**\n",
    "\n",
    "\n",
    "*   You have to use stacks.\n",
    "*   Each test case is worth 10 points. The other 30 points are in hidden test cases.\n",
    "\n"
   ],
   "metadata": {
    "id": "wEHnP7M-11SJ"
   }
  },
  {
   "cell_type": "code",
   "source": [
    "def evaluate(exp: str) -> float:\n",
    "    \"\"\"\n",
    "    Evaluates a parenthesized math problem and returns the results for basic operations.\n",
    "\n",
    "    Args:\n",
    "        exp (String): Example: ( 1 + ( ( 2 + 3 ) * ( 4 * 5 ) ) )\n",
    "\n",
    "    Returns:\n",
    "        (float): The float result of the operation casting values as needed.\n",
    "    \"\"\"\n",
    "    math_problem = exp.split(' ')\n",
    "    stack_operator = Stack()\n",
    "    stack_operand = Stack()\n",
    "\n",
    "    lam_operator_mapping = {\"+\": (lambda x, y: x + y),\n",
    "                            \"-\": (lambda x, y: x - y),\n",
    "                            \"/\": (lambda x, y: x / y),\n",
    "                            \"*\": (lambda x, y: x * y)\n",
    "                            }\n",
    "\n",
    "    for item in math_problem:\n",
    "        if item in \"+-*/\":\n",
    "            stack_operator.push(item)\n",
    "        elif item not in \"()\":\n",
    "            stack_operand.push(item)\n",
    "        elif item == \")\":\n",
    "            value1 = stack_operand.pop()\n",
    "            value2 = stack_operand.pop()\n",
    "            temp_oper = stack_operator.pop()\n",
    "            value = lam_operator_mapping[temp_oper](float(value2), float(value1))\n",
    "            stack_operand.push(value)\n",
    "\n",
    "    return stack_operand.pop()\n"
   ],
   "metadata": {
    "id": "brGkmH0dIuFS"
   },
   "execution_count": 9,
   "outputs": []
  },
  {
   "cell_type": "markdown",
   "source": [
    "**Test case 1**"
   ],
   "metadata": {
    "id": "L5qdkjWp_v7X"
   }
  },
  {
   "cell_type": "code",
   "source": [
    "assert(evaluate(\"( 1 + ( ( 2 + 3 ) * ( 4 * 5 ) ) )\") == 101.0)"
   ],
   "metadata": {
    "id": "vRyiPCpagKE0"
   },
   "execution_count": 10,
   "outputs": []
  },
  {
   "cell_type": "markdown",
   "source": [
    "**Test case 2**"
   ],
   "metadata": {
    "id": "C03L51Xg_yZO"
   }
  },
  {
   "cell_type": "code",
   "source": [
    "assert(evaluate(\"( ( 9 * 7 ) + ( 8 / ( 10 + 6 ) ) )\") == 63.5)"
   ],
   "metadata": {
    "id": "vrimx6IJgKBZ"
   },
   "execution_count": 11,
   "outputs": []
  },
  {
   "cell_type": "markdown",
   "source": [],
   "metadata": {
    "id": "lR9NoFSFLVH6"
   }
  }
 ]
}
